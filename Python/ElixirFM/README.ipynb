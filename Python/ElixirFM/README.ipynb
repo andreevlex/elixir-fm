{
 "cells": [
  {
   "cell_type": "markdown",
   "metadata": {},
   "source": [
    "<img src=\"../../elixir-fm.png\" align=\"right\" width=\"10%\">\n",
    "\n",
    "# ElixirFM / Python"
   ]
  },
  {
   "cell_type": "markdown",
   "metadata": {},
   "source": [
    "You can enjoy the [Python interface to ElixirFM](http://github.com/otakar-smrz/elixir-fm/tree/master/Python/ElixirFM/ElixirFM/__init__.py) from within [IPython](http://ipython.org) or [Jupyter Notebook](http://jupyter.org).\n",
    "\n",
    "    python setup.py install\n",
    "    ipython notebook README.ipynb\n",
    "\n",
    "This notebook focuses on using ElixirFM from within Python, assuming the `elixir` executable is installed. You might like to refer to its [documentation](http://github.com/otakar-smrz/elixir-fm/tree/master/README.ipynb)."
   ]
  },
  {
   "cell_type": "code",
   "execution_count": 1,
   "metadata": {
    "collapsed": false
   },
   "outputs": [
    {
     "name": "stdout",
     "output_type": "stream",
     "text": [
      "~/.cabal/bin/elixir\r\n"
     ]
    }
   ],
   "source": [
    "! which elixir                                               | perl -pe 's{'$HOME'}{~}'  # '~/' is your home directory"
   ]
  },
  {
   "cell_type": "code",
   "execution_count": 2,
   "metadata": {
    "collapsed": false
   },
   "outputs": [
    {
     "name": "stdout",
     "output_type": "stream",
     "text": [
      "~/.cabal/bin\r\n"
     ]
    }
   ],
   "source": [
    "! echo $PATH | tr ':' \"\\n\" | grep $(dirname $(which elixir)) | perl -pe 's{'$HOME'}{~}'  # '~/' is your home directory"
   ]
  },
  {
   "cell_type": "code",
   "execution_count": 3,
   "metadata": {
    "collapsed": true
   },
   "outputs": [],
   "source": [
    "import ElixirFM as elixir"
   ]
  },
  {
   "cell_type": "code",
   "execution_count": 4,
   "metadata": {
    "collapsed": false,
    "scrolled": true
   },
   "outputs": [
    {
     "name": "stdout",
     "output_type": "stream",
     "text": [
      "ElixirFM (C) 2017-2005 Otakar Smrz and Viktor Bielicky\n",
      "             2004 Markus Forsberg, 2002 Tim Buckwalter\n",
      "GNU General Public License http://www.gnu.org/licenses/\n",
      "\n",
      "ElixirFM 1.2.2 January 2017\n",
      "\n"
     ]
    }
   ],
   "source": [
    "print elixir.elixir('version')"
   ]
  },
  {
   "cell_type": "code",
   "execution_count": 5,
   "metadata": {
    "collapsed": false
   },
   "outputs": [
    {
     "name": "stdout",
     "output_type": "stream",
     "text": [
      "ElixirFM (C) 2017-2005 Otakar Smrz and Viktor Bielicky\n",
      "             2004 Markus Forsberg, 2002 Tim Buckwalter\n",
      "GNU General Public License http://www.gnu.org/licenses/\n",
      "\n",
      "               http://github.com/otakar-smrz/elixir-fm/\n",
      "                               http://elixir-fm.sf.net/\n",
      "                             <otakar-smrz users.sf.net>\n",
      "\n",
      "elixir [--]MODE [--OPTIONS] [PARAMETERS]\n",
      "\n",
      "      --resolve  run the 'resolve' mode\n",
      "      --inflect  run the 'inflect' mode\n",
      "      --derive   run the 'derive' mode\n",
      "      --lookup   run the 'lookup' mode\n",
      "                 \n",
      "      --merge    'merge' templates with roots\n",
      "                 \n",
      "      --lexicon  dump the 'lexicon' data\n",
      "      --compose  dump the 'compose' data\n",
      "                 \n",
      "  -t  --trees    resolve using MorphoTrees\n",
      "  -l  --lists    resolve using MorphoLists\n",
      "  -f  --fuzzy    resolve even fuzzy notation\n",
      "  -q  --quick    resolve without tokenizing\n",
      "                 \n",
      "  -h  --help     program's usage and online references\n",
      "  -v  --version  library version and build information\n",
      "\n"
     ]
    }
   ],
   "source": [
    "print elixir.elixir('help')"
   ]
  },
  {
   "cell_type": "code",
   "execution_count": 6,
   "metadata": {
    "collapsed": true
   },
   "outputs": [],
   "source": [
    "import Encode.Arabic"
   ]
  },
  {
   "cell_type": "code",
   "execution_count": 7,
   "metadata": {
    "collapsed": false
   },
   "outputs": [
    {
     "name": "stdout",
     "output_type": "stream",
     "text": [
      "اَلإِكسِير al-ʾiksīr AalIiksiyr\n"
     ]
    }
   ],
   "source": [
    "print \"al-'iksIr\".decode(\"tex\"), \"al-'iksIr\".decode(\"zdmg\"), \"al-'iksIr\".decode(\"tex\").encode(\"buckwalter\")"
   ]
  },
  {
   "cell_type": "markdown",
   "metadata": {},
   "source": [
    "## Merge"
   ]
  },
  {
   "cell_type": "code",
   "execution_count": 8,
   "metadata": {
    "collapsed": false
   },
   "outputs": [
    {
     "name": "stdout",
     "output_type": "stream",
     "text": [
      "al >| FiCAL |<< \"u\"\t\"\"\tal-FiCALu\tal|-FiCAL-|u\r\n",
      "                   \t\"k t b\"\tal-kitAbu\tal|-kitAb-|u\r\n",
      "\r\n"
     ]
    }
   ],
   "source": [
    "! echo 'al >| FiCAL |<< \"u\" \"\" \"k t b\"' | elixir merge"
   ]
  },
  {
   "cell_type": "code",
   "execution_count": 9,
   "metadata": {
    "collapsed": false
   },
   "outputs": [
    {
     "data": {
      "text/plain": [
       "'al >| FiCAL |<< \"u\"\\t\"\"\\tal-FiCALu\\tal|-FiCAL-|u\\n                   \\t\"k t b\"\\tal-kitAbu\\tal|-kitAb-|u\\n\\n'"
      ]
     },
     "execution_count": 9,
     "metadata": {},
     "output_type": "execute_result"
    }
   ],
   "source": [
    "elixir.merge('al >| FiCAL |<< \"u\" \"\" \"k t b\"')"
   ]
  },
  {
   "cell_type": "code",
   "execution_count": 10,
   "metadata": {
    "collapsed": false
   },
   "outputs": [
    {
     "data": {
      "text/plain": [
       "[[['al >| FiCAL |<< \"u\"',\n",
       "   ['\"\"', ['al-FiCALu', ['al|-FiCAL-|u']]],\n",
       "   ['\"k t b\"', ['al-kitAbu', ['al|-kitAb-|u']]]]]]"
      ]
     },
     "execution_count": 10,
     "metadata": {},
     "output_type": "execute_result"
    }
   ],
   "source": [
    "merge = elixir.merge('al >| FiCAL |<< \"u\" \"\" \"k t b\"')\n",
    "elixir.unpretty(merge)"
   ]
  },
  {
   "cell_type": "code",
   "execution_count": 11,
   "metadata": {
    "collapsed": false
   },
   "outputs": [
    {
     "data": {
      "text/plain": [
       "[[['al >| FiCAL |<< \"u\"',\n",
       "   ['\"\"', 'al-FiCALu', 'al|-FiCAL-|u'],\n",
       "   ['\"k t b\"', 'al-kitAbu', 'al|-kitAb-|u']]]]"
      ]
     },
     "execution_count": 11,
     "metadata": {},
     "output_type": "execute_result"
    }
   ],
   "source": [
    "elixir.unpretty(merge, 'merge')"
   ]
  },
  {
   "cell_type": "code",
   "execution_count": 12,
   "metadata": {
    "collapsed": false
   },
   "outputs": [
    {
     "name": "stdout",
     "output_type": "stream",
     "text": [
      "\"k t b\" \tك ت ب\n",
      "al-kitAbu \tاَلكِتَابُ\n",
      "al|-kitAb-|u \tal-kitāb-u\n"
     ]
    }
   ],
   "source": [
    "data = elixir.unpretty(merge, 'merge')\n",
    "(root, merged, twined) = data[0][0][2]\n",
    "\n",
    "print root, \"\\t\", root[1:-1].decode(\"tex\")\n",
    "print merged, \"\\t\", merged.decode(\"tex\")\n",
    "print twined, \"\\t\", twined.decode(\"zdmg\")"
   ]
  },
  {
   "cell_type": "markdown",
   "metadata": {},
   "source": [
    "## Lookup"
   ]
  },
  {
   "cell_type": "code",
   "execution_count": 13,
   "metadata": {
    "collapsed": false
   },
   "outputs": [
    {
     "name": "stdout",
     "output_type": "stream",
     "text": [
      "car\t(4414,[26])\t(4414,26)\tN---------\t`arba_hAnaT\t\"` r b\"\tFaCL |<< \"a\" |<< \"_hAn\" |< aT\t[\"car shed\",\"coach house\"]\t[]\n",
      "   \t(6284,[28])\t(6284,28)\tN---------\tsayyAraT\t\"s y r\"\tFaCCAL |< aT\t[\"car\",\"automobile\",\"vehicle\"]\t[]\n",
      "   \t           \t         \t-------P--\tsayyArAt\t\"s y r\"\tFaCCAL |< At\n",
      "   \t(8011,[1])\t(8011,1)\tN---------\tsibinsaT\t\"sibins\"\t_____ |< aT\t[\"caboose\",\"baggage car\"]\t[]\n",
      "   \t(8325,[22])\t(8325,22)\tN---------\t^sA.hinaT\t\"^s .h n\"\tFACiL |< aT\t[\"truck\",\"lorry\",\"freight car\"]\t[I]\n",
      "   \t           \t         \t-------P--\t^sA.hinAt\t\"^s .h n\"\tFACiL |< At\n",
      "\n"
     ]
    }
   ],
   "source": [
    "! echo 'car' | elixir lookup"
   ]
  },
  {
   "cell_type": "code",
   "execution_count": 14,
   "metadata": {
    "collapsed": false
   },
   "outputs": [
    {
     "data": {
      "text/plain": [
       "'\"book\"\\t(419,[45])\\t(419,45)\\tN---------\\tta\\'lIf\\t\"\\' l f\"\\tTaFCIL\\t[\"publication\",\"book\"]\\t[II]\\n      \\t          \\t        \\t-------P--\\tta\\'AlIf\\t\"\\' l f\"\\tTaFACIL\\n      \\t(2409,[1])\\t(2409,1)\\tX---------\\tbUk\\t\"bUk\"\\t_____\\t[\"Book\"]\\t[]\\n      \\t(5156,[31])\\t(5156,31)\\tN---------\\tkitAb\\t\"k t b\"\\tFiCAL\\t[\"book\"]\\t[]\\n      \\t           \\t         \\t-------P--\\tkutub\\t\"k t b\"\\tFuCuL\\n      \\t(8117,[22])\\t(8117,22)\\tN---------\\tsifr\\t\"s f r\"\\tFiCL\\t[\"book\"]\\t[I]\\n      \\t           \\t         \\t-------P--\\t\\'asfAr\\t\"s f r\"\\tHaFCAL\\n\\n'"
      ]
     },
     "execution_count": 14,
     "metadata": {},
     "output_type": "execute_result"
    }
   ],
   "source": [
    "elixir.lookup('\"book\"')"
   ]
  },
  {
   "cell_type": "code",
   "execution_count": 15,
   "metadata": {
    "collapsed": false
   },
   "outputs": [
    {
     "data": {
      "text/plain": [
       "[[['car',\n",
       "   ['(4414,[26])',\n",
       "    ['(4414,26)',\n",
       "     ['N---------',\n",
       "      ['`arba_hAnaT',\n",
       "       ['\"` r b\"',\n",
       "        ['FaCL |<< \"a\" |<< \"_hAn\" |< aT',\n",
       "         ['[\"car shed\",\"coach house\"]', ['[]']]]]]]]],\n",
       "   ['(6284,[28])',\n",
       "    ['(6284,28)',\n",
       "     ['N---------',\n",
       "      ['sayyAraT',\n",
       "       ['\"s y r\"',\n",
       "        ['FaCCAL |< aT', ['[\"car\",\"automobile\",\"vehicle\"]', ['[]']]]]]],\n",
       "     ['-------P--', ['sayyArAt', ['\"s y r\"', ['FaCCAL |< At']]]]]],\n",
       "   ['(8011,[1])',\n",
       "    ['(8011,1)',\n",
       "     ['N---------',\n",
       "      ['sibinsaT',\n",
       "       ['\"sibins\"',\n",
       "        ['_____ |< aT', ['[\"caboose\",\"baggage car\"]', ['[]']]]]]]]],\n",
       "   ['(8325,[22])',\n",
       "    ['(8325,22)',\n",
       "     ['N---------',\n",
       "      ['^sA.hinaT',\n",
       "       ['\"^s .h n\"',\n",
       "        ['FACiL |< aT', ['[\"truck\",\"lorry\",\"freight car\"]', ['[I]']]]]]],\n",
       "     ['-------P--', ['^sA.hinAt', ['\"^s .h n\"', ['FACiL |< At']]]]]]]]]"
      ]
     },
     "execution_count": 15,
     "metadata": {},
     "output_type": "execute_result"
    }
   ],
   "source": [
    "lookup = elixir.lookup(\"car\")\n",
    "elixir.unpretty(lookup)"
   ]
  },
  {
   "cell_type": "code",
   "execution_count": 16,
   "metadata": {
    "collapsed": false
   },
   "outputs": [
    {
     "data": {
      "text/plain": [
       "[[['car',\n",
       "   ['(4414,[26])',\n",
       "    ['(4414,26)',\n",
       "     ['N---------',\n",
       "      ['`arba_hAnaT',\n",
       "       '\"` r b\"',\n",
       "       'FaCL |<< \"a\" |<< \"_hAn\" |< aT',\n",
       "       '[\"car shed\",\"coach house\"]',\n",
       "       '[]']]]],\n",
       "   ['(6284,[28])',\n",
       "    ['(6284,28)',\n",
       "     ['N---------',\n",
       "      ['sayyAraT',\n",
       "       '\"s y r\"',\n",
       "       'FaCCAL |< aT',\n",
       "       '[\"car\",\"automobile\",\"vehicle\"]',\n",
       "       '[]']],\n",
       "     ['-------P--', ['sayyArAt', '\"s y r\"', 'FaCCAL |< At']]]],\n",
       "   ['(8011,[1])',\n",
       "    ['(8011,1)',\n",
       "     ['N---------',\n",
       "      ['sibinsaT',\n",
       "       '\"sibins\"',\n",
       "       '_____ |< aT',\n",
       "       '[\"caboose\",\"baggage car\"]',\n",
       "       '[]']]]],\n",
       "   ['(8325,[22])',\n",
       "    ['(8325,22)',\n",
       "     ['N---------',\n",
       "      ['^sA.hinaT',\n",
       "       '\"^s .h n\"',\n",
       "       'FACiL |< aT',\n",
       "       '[\"truck\",\"lorry\",\"freight car\"]',\n",
       "       '[I]']],\n",
       "     ['-------P--', ['^sA.hinAt', '\"^s .h n\"', 'FACiL |< At']]]]]]]"
      ]
     },
     "execution_count": 16,
     "metadata": {},
     "output_type": "execute_result"
    }
   ],
   "source": [
    "elixir.unpretty(lookup, 'lookup')"
   ]
  },
  {
   "cell_type": "code",
   "execution_count": 17,
   "metadata": {
    "collapsed": false
   },
   "outputs": [
    {
     "data": {
      "text/plain": [
       "[[[u'\\u0621',\n",
       "   [u'(48,[])',\n",
       "    [u'(48,1)',\n",
       "     [u'F---------',\n",
       "      [u\"'a\", u'\"\\'a\"', u'_____', u'[\"whether\",\"indeed\"]', u'[]']]]],\n",
       "   [u'(1907,[])',\n",
       "    [u'(1907,1)',\n",
       "     [u'Y---------', [u\"'i\", u'\"\\'i\"', u'_____', u'[\"I\"]', u'[]']]]],\n",
       "   [u'(1908,[])',\n",
       "    [u'(1908,1)',\n",
       "     [u'Y---------', [u\"'a\", u'\"\\'a\"', u'_____', u'[\"A\",\"1st\"]', u'[]']]]]]]]"
      ]
     },
     "execution_count": 17,
     "metadata": {},
     "output_type": "execute_result"
    }
   ],
   "source": [
    "coding = elixir.lookup(u\"\\u0621\")\n",
    "elixir.unpretty(coding, 'lookup')"
   ]
  },
  {
   "cell_type": "code",
   "execution_count": 18,
   "metadata": {
    "collapsed": false
   },
   "outputs": [
    {
     "data": {
      "text/plain": [
       "[[['\\xd8\\xa1',\n",
       "   ['(48,[])',\n",
       "    ['(48,1)',\n",
       "     ['F---------', [\"'a\", '\"\\'a\"', '_____', '[\"whether\",\"indeed\"]', '[]']]]],\n",
       "   ['(1907,[])',\n",
       "    ['(1907,1)', ['Y---------', [\"'i\", '\"\\'i\"', '_____', '[\"I\"]', '[]']]]],\n",
       "   ['(1908,[])',\n",
       "    ['(1908,1)',\n",
       "     ['Y---------', [\"'a\", '\"\\'a\"', '_____', '[\"A\",\"1st\"]', '[]']]]]]]]"
      ]
     },
     "execution_count": 18,
     "metadata": {},
     "output_type": "execute_result"
    }
   ],
   "source": [
    "coding = elixir.lookup(u\"\\u0621\".encode('utf-8'))\n",
    "elixir.unpretty(coding, 'lookup')"
   ]
  },
  {
   "cell_type": "code",
   "execution_count": 19,
   "metadata": {
    "collapsed": false
   },
   "outputs": [
    {
     "data": {
      "text/plain": [
       "['-------P--', ['^sA.hinAt', '\"^s .h n\"', 'FACiL |< At']]"
      ]
     },
     "execution_count": 19,
     "metadata": {},
     "output_type": "execute_result"
    }
   ],
   "source": [
    "elixir.unpretty(lookup, 'lookup')[0][0][4][1][2]"
   ]
  },
  {
   "cell_type": "code",
   "execution_count": 20,
   "metadata": {
    "collapsed": false
   },
   "outputs": [
    {
     "data": {
      "text/plain": [
       "'^sA.hinAt'"
      ]
     },
     "execution_count": 20,
     "metadata": {},
     "output_type": "execute_result"
    }
   ],
   "source": [
    "elixir.unpretty(lookup, 'lookup')[0][0][4][1][2][1][0]"
   ]
  },
  {
   "cell_type": "code",
   "execution_count": 21,
   "metadata": {
    "collapsed": true
   },
   "outputs": [],
   "source": [
    "word = elixir.unpretty(lookup, 'lookup')[0][0][4][1][2][1][0]"
   ]
  },
  {
   "cell_type": "code",
   "execution_count": 22,
   "metadata": {
    "collapsed": false
   },
   "outputs": [
    {
     "data": {
      "text/plain": [
       "u'\\u0634\\u064e\\u0627\\u062d\\u0650\\u0646\\u064e\\u0627\\u062a'"
      ]
     },
     "execution_count": 22,
     "metadata": {},
     "output_type": "execute_result"
    }
   ],
   "source": [
    "word.decode(\"tex\")"
   ]
  },
  {
   "cell_type": "code",
   "execution_count": 23,
   "metadata": {
    "collapsed": false,
    "slideshow": {
     "slide_type": "-"
    }
   },
   "outputs": [
    {
     "name": "stdout",
     "output_type": "stream",
     "text": [
      "شَاحِنَات\n"
     ]
    }
   ],
   "source": [
    "print word.decode(\"tex\")"
   ]
  },
  {
   "cell_type": "code",
   "execution_count": 24,
   "metadata": {
    "collapsed": false
   },
   "outputs": [
    {
     "data": {
      "text/plain": [
       "'\\xc5\\xa1aAHinaAt'"
      ]
     },
     "execution_count": 24,
     "metadata": {},
     "output_type": "execute_result"
    }
   ],
   "source": [
    "word.decode(\"tex\").encode(\"habash\")"
   ]
  },
  {
   "cell_type": "code",
   "execution_count": 25,
   "metadata": {
    "collapsed": false
   },
   "outputs": [
    {
     "data": {
      "text/plain": [
       "u'\\u0161aAHinaAt'"
      ]
     },
     "execution_count": 25,
     "metadata": {},
     "output_type": "execute_result"
    }
   ],
   "source": [
    "word.decode(\"tex\").encode(\"habash\").decode(\"utf-8\")"
   ]
  },
  {
   "cell_type": "code",
   "execution_count": 26,
   "metadata": {
    "collapsed": false
   },
   "outputs": [
    {
     "name": "stdout",
     "output_type": "stream",
     "text": [
      "šaAHinaAt\n"
     ]
    }
   ],
   "source": [
    "print word.decode(\"tex\").encode(\"habash\")"
   ]
  },
  {
   "cell_type": "markdown",
   "metadata": {},
   "source": [
    "## Derive"
   ]
  },
  {
   "cell_type": "code",
   "execution_count": 27,
   "metadata": {
    "collapsed": false
   },
   "outputs": [],
   "source": [
    "derive = elixir.derive(\"(1224,1)\", 'N---------', '[VA]---------')"
   ]
  },
  {
   "cell_type": "code",
   "execution_count": 28,
   "metadata": {
    "collapsed": false
   },
   "outputs": [
    {
     "name": "stdout",
     "output_type": "stream",
     "text": [
      "(1224,1)\tN---------\tI\tqirA'aT\t\"q r '\"\tFiCAL |< aT\n",
      "        \tV---------\tI\tqara'\t\"q r '\"\tFaCaL\n",
      "        \tA--A------\tI\tqAri'\t\"q r '\"\tFACiL\n",
      "        \tA--P------\tI\tmaqrU'\t\"q r '\"\tMaFCUL\n",
      "\n",
      "\n"
     ]
    }
   ],
   "source": [
    "print derive"
   ]
  },
  {
   "cell_type": "code",
   "execution_count": 29,
   "metadata": {
    "collapsed": false
   },
   "outputs": [
    {
     "data": {
      "text/plain": [
       "[[['(1224,1)',\n",
       "   ['N---------', ['I', \"qirA'aT\", '\"q r \\'\"', 'FiCAL |< aT']],\n",
       "   ['V---------', ['I', \"qara'\", '\"q r \\'\"', 'FaCaL']],\n",
       "   ['A--A------', ['I', \"qAri'\", '\"q r \\'\"', 'FACiL']],\n",
       "   ['A--P------', ['I', \"maqrU'\", '\"q r \\'\"', 'MaFCUL']]]]]"
      ]
     },
     "execution_count": 29,
     "metadata": {},
     "output_type": "execute_result"
    }
   ],
   "source": [
    "elixir.unpretty(derive, 'derive')"
   ]
  },
  {
   "cell_type": "markdown",
   "metadata": {},
   "source": [
    "## Inflect"
   ]
  },
  {
   "cell_type": "code",
   "execution_count": 30,
   "metadata": {
    "collapsed": true
   },
   "outputs": [],
   "source": [
    "inflect = elixir.inflect(\"(1224,[1,5])\", 'V[PI]I--3-S--', 'VCJ-------')"
   ]
  },
  {
   "cell_type": "code",
   "execution_count": 31,
   "metadata": {
    "collapsed": false
   },
   "outputs": [
    {
     "name": "stdout",
     "output_type": "stream",
     "text": [
      "(1224,1)\tVP-A-3MS--\tqara'a\t\"q r '\"\tFaCaL |<< \"a\"\n",
      "        \tVP-A-3FS--\tqara'at\t\"q r '\"\tFaCaL |<< \"at\"\n",
      "        \tVP-P-3MS--\tquri'a\t\"q r '\"\tFuCiL |<< \"a\"\n",
      "        \tVP-P-3FS--\tquri'at\t\"q r '\"\tFuCiL |<< \"at\"\n",
      "        \tVIIA-3MS--\tyaqra'u\t\"q r '\"\t\"ya\" >>| FCaL |<< \"u\"\n",
      "        \tVIIA-3FS--\ttaqra'u\t\"q r '\"\t\"ta\" >>| FCaL |<< \"u\"\n",
      "        \tVIIP-3MS--\tyuqra'u\t\"q r '\"\t\"yu\" >>| FCaL |<< \"u\"\n",
      "        \tVIIP-3FS--\ttuqra'u\t\"q r '\"\t\"tu\" >>| FCaL |<< \"u\"\n",
      "        \tVCJ---MS--\tiqra'\t\"q r '\"\t\"i\" >>| FCaL |<< \"\"\n",
      "        \tVCJ---FS--\tiqra'I\t\"q r '\"\t\"i\" >>| FCaL |<< \"I\"\n",
      "        \tVCJ---MD--\tiqra'A\t\"q r '\"\t\"i\" >>| FCaL |<< \"A\"\n",
      "        \tVCJ---FD--\tiqra'A\t\"q r '\"\t\"i\" >>| FCaL |<< \"A\"\n",
      "        \tVCJ---MP--\tiqra'UW\t\"q r '\"\t\"i\" >>| FCaL |<< \"UW\"\n",
      "        \tVCJ---FP--\tiqra'na\t\"q r '\"\t\"i\" >>| FCaL |<< \"na\"\n",
      "(1224,5)\tVP-A-3MS--\t'aqra'a\t\"q r '\"\tHaFCaL |<< \"a\"\n",
      "        \tVP-A-3FS--\t'aqra'at\t\"q r '\"\tHaFCaL |<< \"at\"\n",
      "        \tVP-P-3MS--\t'uqri'a\t\"q r '\"\tHuFCiL |<< \"a\"\n",
      "        \tVP-P-3FS--\t'uqri'at\t\"q r '\"\tHuFCiL |<< \"at\"\n",
      "        \tVIIA-3MS--\tyuqri'u\t\"q r '\"\t\"yu\" >>| FCiL |<< \"u\"\n",
      "        \tVIIA-3FS--\ttuqri'u\t\"q r '\"\t\"tu\" >>| FCiL |<< \"u\"\n",
      "        \tVIIP-3MS--\tyuqra'u\t\"q r '\"\t\"yu\" >>| FCaL |<< \"u\"\n",
      "        \tVIIP-3FS--\ttuqra'u\t\"q r '\"\t\"tu\" >>| FCaL |<< \"u\"\n",
      "        \tVCJ---MS--\t'aqri'\t\"q r '\"\t\"'a\" >>| FCiL |<< \"\"\n",
      "        \tVCJ---FS--\t'aqri'I\t\"q r '\"\t\"'a\" >>| FCiL |<< \"I\"\n",
      "        \tVCJ---MD--\t'aqri'A\t\"q r '\"\t\"'a\" >>| FCiL |<< \"A\"\n",
      "        \tVCJ---FD--\t'aqri'A\t\"q r '\"\t\"'a\" >>| FCiL |<< \"A\"\n",
      "        \tVCJ---MP--\t'aqri'UW\t\"q r '\"\t\"'a\" >>| FCiL |<< \"UW\"\n",
      "        \tVCJ---FP--\t'aqri'na\t\"q r '\"\t\"'a\" >>| FCiL |<< \"na\"\n",
      "\n",
      "\n"
     ]
    }
   ],
   "source": [
    "print inflect"
   ]
  },
  {
   "cell_type": "code",
   "execution_count": 32,
   "metadata": {
    "collapsed": false
   },
   "outputs": [
    {
     "data": {
      "text/plain": [
       "[[['(1224,1)',\n",
       "   ['VP-A-3MS--', [\"qara'a\", '\"q r \\'\"', 'FaCaL |<< \"a\"']],\n",
       "   ['VP-A-3FS--', [\"qara'at\", '\"q r \\'\"', 'FaCaL |<< \"at\"']],\n",
       "   ['VP-P-3MS--', [\"quri'a\", '\"q r \\'\"', 'FuCiL |<< \"a\"']],\n",
       "   ['VP-P-3FS--', [\"quri'at\", '\"q r \\'\"', 'FuCiL |<< \"at\"']],\n",
       "   ['VIIA-3MS--', [\"yaqra'u\", '\"q r \\'\"', '\"ya\" >>| FCaL |<< \"u\"']],\n",
       "   ['VIIA-3FS--', [\"taqra'u\", '\"q r \\'\"', '\"ta\" >>| FCaL |<< \"u\"']],\n",
       "   ['VIIP-3MS--', [\"yuqra'u\", '\"q r \\'\"', '\"yu\" >>| FCaL |<< \"u\"']],\n",
       "   ['VIIP-3FS--', [\"tuqra'u\", '\"q r \\'\"', '\"tu\" >>| FCaL |<< \"u\"']],\n",
       "   ['VCJ---MS--', [\"iqra'\", '\"q r \\'\"', '\"i\" >>| FCaL |<< \"\"']],\n",
       "   ['VCJ---FS--', [\"iqra'I\", '\"q r \\'\"', '\"i\" >>| FCaL |<< \"I\"']],\n",
       "   ['VCJ---MD--', [\"iqra'A\", '\"q r \\'\"', '\"i\" >>| FCaL |<< \"A\"']],\n",
       "   ['VCJ---FD--', [\"iqra'A\", '\"q r \\'\"', '\"i\" >>| FCaL |<< \"A\"']],\n",
       "   ['VCJ---MP--', [\"iqra'UW\", '\"q r \\'\"', '\"i\" >>| FCaL |<< \"UW\"']],\n",
       "   ['VCJ---FP--', [\"iqra'na\", '\"q r \\'\"', '\"i\" >>| FCaL |<< \"na\"']]],\n",
       "  ['(1224,5)',\n",
       "   ['VP-A-3MS--', [\"'aqra'a\", '\"q r \\'\"', 'HaFCaL |<< \"a\"']],\n",
       "   ['VP-A-3FS--', [\"'aqra'at\", '\"q r \\'\"', 'HaFCaL |<< \"at\"']],\n",
       "   ['VP-P-3MS--', [\"'uqri'a\", '\"q r \\'\"', 'HuFCiL |<< \"a\"']],\n",
       "   ['VP-P-3FS--', [\"'uqri'at\", '\"q r \\'\"', 'HuFCiL |<< \"at\"']],\n",
       "   ['VIIA-3MS--', [\"yuqri'u\", '\"q r \\'\"', '\"yu\" >>| FCiL |<< \"u\"']],\n",
       "   ['VIIA-3FS--', [\"tuqri'u\", '\"q r \\'\"', '\"tu\" >>| FCiL |<< \"u\"']],\n",
       "   ['VIIP-3MS--', [\"yuqra'u\", '\"q r \\'\"', '\"yu\" >>| FCaL |<< \"u\"']],\n",
       "   ['VIIP-3FS--', [\"tuqra'u\", '\"q r \\'\"', '\"tu\" >>| FCaL |<< \"u\"']],\n",
       "   ['VCJ---MS--', [\"'aqri'\", '\"q r \\'\"', '\"\\'a\" >>| FCiL |<< \"\"']],\n",
       "   ['VCJ---FS--', [\"'aqri'I\", '\"q r \\'\"', '\"\\'a\" >>| FCiL |<< \"I\"']],\n",
       "   ['VCJ---MD--', [\"'aqri'A\", '\"q r \\'\"', '\"\\'a\" >>| FCiL |<< \"A\"']],\n",
       "   ['VCJ---FD--', [\"'aqri'A\", '\"q r \\'\"', '\"\\'a\" >>| FCiL |<< \"A\"']],\n",
       "   ['VCJ---MP--', [\"'aqri'UW\", '\"q r \\'\"', '\"\\'a\" >>| FCiL |<< \"UW\"']],\n",
       "   ['VCJ---FP--', [\"'aqri'na\", '\"q r \\'\"', '\"\\'a\" >>| FCiL |<< \"na\"']]]]]"
      ]
     },
     "execution_count": 32,
     "metadata": {},
     "output_type": "execute_result"
    }
   ],
   "source": [
    "elixir.unpretty(inflect, 'inflect')"
   ]
  },
  {
   "cell_type": "code",
   "execution_count": 33,
   "metadata": {
    "collapsed": false
   },
   "outputs": [
    {
     "name": "stdout",
     "output_type": "stream",
     "text": [
      "قَرَأَ\tqaraʾa\n",
      "قَرَأَت\tqaraʾat\n",
      "قُرِئَ\tquriʾa\n",
      "قُرِئَت\tquriʾat\n",
      "يَقرَأُ\tyaqraʾu\n",
      "تَقرَأُ\ttaqraʾu\n",
      "يُقرَأُ\tyuqraʾu\n",
      "تُقرَأُ\ttuqraʾu\n",
      "اقرَأ\tʼqraʾ\n",
      "اقرَئِي\tiqraʾī\n",
      "اقرَآ\tʼqraʾā\n",
      "اقرَآ\tʼqraʾā\n",
      "اقرَؤُوا\tʼqraʾū\n",
      "اقرَأنَ\tiqraʾna\n",
      "أَقرَأَ\tʾaqraʾa\n",
      "أَقرَأَت\tʾaqraʾat\n",
      "أُقرِئَ\tʾuqriʾa\n",
      "أُقرِئَت\tʾuqriʾat\n",
      "يُقرِئُ\tyuqriʾu\n",
      "تُقرِئُ\ttuqriʾu\n",
      "يُقرَأُ\tyuqraʾu\n",
      "تُقرَأُ\ttuqraʾu\n",
      "أَقرِئ\tʾaqriʾ\n",
      "أَقرِئِي\tʾaqriʾī\n",
      "أَقرِئَا\tʾaqriʾā\n",
      "أَقرِئَا\tʾaqriʾā\n",
      "أَقرِئُوا\tʾaqriʾū\n",
      "أَقرِئنَ\tʾaqriʾna\n"
     ]
    }
   ],
   "source": [
    "forms = [ form for line in elixir.unpretty(inflect, 'inflect') \n",
    "               for data in line \n",
    "               for param in data[1:] \n",
    "               for (form, root, morphs) in param[1:] ]\n",
    "\n",
    "orth = \"\\n\".join(forms).decode(\"tex\").split(\"\\n\")\n",
    "phon = \"\\n\".join(forms).decode(\"zdmg\").split(\"\\n\")\n",
    "\n",
    "print \"\\n\".join( o + \"\\t\" + p for (o, p) in zip(orth, phon) )"
   ]
  },
  {
   "cell_type": "markdown",
   "metadata": {},
   "source": [
    "## Resolve"
   ]
  },
  {
   "cell_type": "code",
   "execution_count": 34,
   "metadata": {
    "collapsed": true
   },
   "outputs": [],
   "source": [
    "resolve = elixir.resolve(\"أهلاً وسهلاً\")"
   ]
  },
  {
   "cell_type": "code",
   "execution_count": 35,
   "metadata": {
    "collapsed": false
   },
   "outputs": [
    {
     "name": "stdout",
     "output_type": "stream",
     "text": [
      "أهلاً\t'AhilaN\tA-----MS4I\t'AhilaN\tFACiL |<< \"aN\"\t\"' h l\"\tFACiL\t'Ahil\t(534,2)\t[\"get married\"]\n",
      "     \t'AhilaN\tA-----MS4I\t'AhilaN\tFACiL |<< \"aN\"\t\"' h l\"\tFACiL\t'Ahil\t(534,5)\t[\"be familiar\"]\n",
      "     \t'ahlaN\tN------S4I\t'ahlaN\tFaCL |<< \"aN\"\t\"' h l\"\tFaCL\t'ahl\t(534,21)\t[\"family\",\"people\",\"folk\",\"indigenous people\"]\n",
      "     \t'ahlaN\tA-----MS4I\t'ahlaN\tFaCL |<< \"aN\"\t\"' h l\"\tFaCL\t'ahl\t(534,22)\t[\"qualified\"]\n",
      "     \t'ahlaN\tI---------\t'ahlaN\tFaCL |<< \"aN\"\t\"' h l\"\tFaCL |<< \"aN\"\t'ahlaN\t(534,23)\t[\"welcome !\"]\n",
      "     \t'AhilaN\tA-----MS4I\t'AhilaN\tFACiL |<< \"aN\"\t\"' h l\"\tFACiL\t'Ahil\t(534,27)\t[\"populated\"]\n",
      "\n",
      "وسهلاً\twa-sahlaN\tC---------\twa\t_____\t\"wa\"\t_____\twa\t(1612,1)\t[\"and\"]\n",
      "      \t         \tA-----MS4I\tsahlaN\tFaCL |<< \"aN\"\t\"s h l\"\tFaCL\tsahl\t(8279,28)\t[\"easy\",\"simple\"]\n",
      "\n",
      "\n",
      "\n"
     ]
    }
   ],
   "source": [
    "print resolve"
   ]
  },
  {
   "cell_type": "code",
   "execution_count": 36,
   "metadata": {
    "collapsed": false
   },
   "outputs": [
    {
     "data": {
      "text/plain": [
       "[[['\\xd8\\xa3\\xd9\\x87\\xd9\\x84\\xd8\\xa7\\xd9\\x8b',\n",
       "   [\"'AhilaN\",\n",
       "    ['A-----MS4I',\n",
       "     \"'AhilaN\",\n",
       "     'FACiL |<< \"aN\"',\n",
       "     '\"\\' h l\"',\n",
       "     'FACiL',\n",
       "     \"'Ahil\",\n",
       "     '(534,2)',\n",
       "     '[\"get married\"]']],\n",
       "   [\"'AhilaN\",\n",
       "    ['A-----MS4I',\n",
       "     \"'AhilaN\",\n",
       "     'FACiL |<< \"aN\"',\n",
       "     '\"\\' h l\"',\n",
       "     'FACiL',\n",
       "     \"'Ahil\",\n",
       "     '(534,5)',\n",
       "     '[\"be familiar\"]']],\n",
       "   [\"'ahlaN\",\n",
       "    ['N------S4I',\n",
       "     \"'ahlaN\",\n",
       "     'FaCL |<< \"aN\"',\n",
       "     '\"\\' h l\"',\n",
       "     'FaCL',\n",
       "     \"'ahl\",\n",
       "     '(534,21)',\n",
       "     '[\"family\",\"people\",\"folk\",\"indigenous people\"]']],\n",
       "   [\"'ahlaN\",\n",
       "    ['A-----MS4I',\n",
       "     \"'ahlaN\",\n",
       "     'FaCL |<< \"aN\"',\n",
       "     '\"\\' h l\"',\n",
       "     'FaCL',\n",
       "     \"'ahl\",\n",
       "     '(534,22)',\n",
       "     '[\"qualified\"]']],\n",
       "   [\"'ahlaN\",\n",
       "    ['I---------',\n",
       "     \"'ahlaN\",\n",
       "     'FaCL |<< \"aN\"',\n",
       "     '\"\\' h l\"',\n",
       "     'FaCL |<< \"aN\"',\n",
       "     \"'ahlaN\",\n",
       "     '(534,23)',\n",
       "     '[\"welcome !\"]']],\n",
       "   [\"'AhilaN\",\n",
       "    ['A-----MS4I',\n",
       "     \"'AhilaN\",\n",
       "     'FACiL |<< \"aN\"',\n",
       "     '\"\\' h l\"',\n",
       "     'FACiL',\n",
       "     \"'Ahil\",\n",
       "     '(534,27)',\n",
       "     '[\"populated\"]']]]],\n",
       " [['\\xd9\\x88\\xd8\\xb3\\xd9\\x87\\xd9\\x84\\xd8\\xa7\\xd9\\x8b',\n",
       "   ['wa-sahlaN',\n",
       "    ['C---------',\n",
       "     'wa',\n",
       "     '_____',\n",
       "     '\"wa\"',\n",
       "     '_____',\n",
       "     'wa',\n",
       "     '(1612,1)',\n",
       "     '[\"and\"]'],\n",
       "    ['A-----MS4I',\n",
       "     'sahlaN',\n",
       "     'FaCL |<< \"aN\"',\n",
       "     '\"s h l\"',\n",
       "     'FaCL',\n",
       "     'sahl',\n",
       "     '(8279,28)',\n",
       "     '[\"easy\",\"simple\"]']]]],\n",
       " []]"
      ]
     },
     "execution_count": 36,
     "metadata": {},
     "output_type": "execute_result"
    }
   ],
   "source": [
    "elixir.unpretty(resolve, 'resolve')"
   ]
  }
 ],
 "metadata": {
  "kernelspec": {
   "display_name": "Python 2",
   "language": "python",
   "name": "python2"
  },
  "language_info": {
   "codemirror_mode": {
    "name": "ipython",
    "version": 2
   },
   "file_extension": ".py",
   "mimetype": "text/x-python",
   "name": "python",
   "nbconvert_exporter": "python",
   "pygments_lexer": "ipython2",
   "version": "2.7.10"
  }
 },
 "nbformat": 4,
 "nbformat_minor": 0
}
