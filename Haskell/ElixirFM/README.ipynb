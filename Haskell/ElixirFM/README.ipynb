{
 "cells": [
  {
   "cell_type": "markdown",
   "metadata": {},
   "source": [
    "<img src=\"../../elixir-fm.png\" align=\"right\" width=\"10%\">\n",
    "\n",
    "# ElixirFM / Haskell"
   ]
  },
  {
   "cell_type": "markdown",
   "metadata": {},
   "source": [
    "You can enjoy the [Haskell library of ElixirFM](http://github.com/otakar-smrz/elixir-fm/tree/master/Haskell/ElixirFM) from within [IHaskell](http://github.com/gibiansky/IHaskell) in [Jupyter Notebook](http://jupyter.org), the [Haskell Platform](https://www.haskell.org/platform), or even [Hugs](https://wiki.haskell.org/Hugs).\n",
    "\n",
    "    cabal install\n",
    "    jupyter notebook README.ipynb\n",
    "\n",
    "This notebook focuses on using ElixirFM from within Haskell, assuming the ElixirFM library is [compiled](http://github.com/otakar-smrz/elixir-fm/tree/master/README.md) and the `elixir` executable is [installed](http://github.com/otakar-smrz/elixir-fm/tree/master/README.ipynb).\n",
    "\n",
    "The design principles of ElixirFM are described in the [Functional Arabic Morphology](http://elixir-fm.sf.net/elixir-thesis.pdf#page=15) thesis. The details keep evolving."
   ]
  },
  {
   "cell_type": "code",
   "execution_count": 1,
   "metadata": {
    "collapsed": false,
    "scrolled": true
   },
   "outputs": [
    {
     "data": {
      "text/plain": [
       "~"
      ]
     },
     "metadata": {},
     "output_type": "display_data"
    }
   ],
   "source": [
    ":! cd ~\n",
    ":! pwd | perl -pe 's{'$HOME'}''{~}'"
   ]
  },
  {
   "cell_type": "code",
   "execution_count": 2,
   "metadata": {
    "collapsed": false
   },
   "outputs": [
    {
     "data": {
      "text/plain": [
       "Version {versionBranch = [1,2,2], versionTags = [\"January 2017\"]}"
      ]
     },
     "metadata": {},
     "output_type": "display_data"
    }
   ],
   "source": [
    "import ElixirFM\n",
    "\n",
    "import Prelude hiding (lookup)\n",
    "import Encode.Arabic\n",
    "\n",
    "import Elixir.Version\n",
    "\n",
    "version"
   ]
  },
  {
   "cell_type": "code",
   "execution_count": 3,
   "metadata": {
    "collapsed": false
   },
   "outputs": [
    {
     "data": {
      "text/plain": [
       "ElixirFM (C) 2017-2005 Otakar Smrz and Viktor Bielicky\n",
       "             2004 Markus Forsberg, 2002 Tim Buckwalter\n",
       "GNU General Public License http://www.gnu.org/licenses/\n",
       "\n",
       "ElixirFM 1.2.2 January 2017"
      ]
     },
     "metadata": {},
     "output_type": "display_data"
    }
   ],
   "source": [
    ":! elixir version"
   ]
  },
  {
   "cell_type": "markdown",
   "metadata": {},
   "source": [
    "## Merge"
   ]
  },
  {
   "cell_type": "code",
   "execution_count": 4,
   "metadata": {
    "collapsed": false
   },
   "outputs": [
    {
     "data": {
      "text/plain": [
       "\"al-kitAbu\""
      ]
     },
     "metadata": {},
     "output_type": "display_data"
    }
   ],
   "source": [
    "\"k t b\" `merge` al >| FiCAL |<< \"u\""
   ]
  },
  {
   "cell_type": "code",
   "execution_count": 5,
   "metadata": {
    "collapsed": false
   },
   "outputs": [
    {
     "data": {
      "text/plain": [
       "\"lA|-silk-|Iy-|aT-|uN\""
      ]
     },
     "metadata": {},
     "output_type": "display_data"
    }
   ],
   "source": [
    "\"s l k\" `twine` lA >| FiCL |< Iy |< aT |<< \"uN\""
   ]
  },
  {
   "cell_type": "code",
   "execution_count": 6,
   "metadata": {
    "collapsed": false
   },
   "outputs": [
    {
     "data": {
      "text/plain": [
       "\"ad-dirAsaTi\""
      ]
     },
     "metadata": {},
     "output_type": "display_data"
    }
   ],
   "source": [
    "merge \"d r s\" (al >| FiCAL |< aT |<< \"i\")"
   ]
  },
  {
   "cell_type": "code",
   "execution_count": 7,
   "metadata": {
    "collapsed": false
   },
   "outputs": [
    {
     "data": {
      "text/plain": [
       "\"al|-dirAs-|aT-|i\""
      ]
     },
     "metadata": {},
     "output_type": "display_data"
    }
   ],
   "source": [
    "twine \"d r s\" (al >| FiCAL |< aT |<< \"i\")"
   ]
  },
  {
   "cell_type": "markdown",
   "metadata": {},
   "source": [
    "## Inflect"
   ]
  },
  {
   "cell_type": "code",
   "execution_count": 8,
   "metadata": {
    "collapsed": false
   },
   "outputs": [
    {
     "data": {
      "text/plain": [
       "Entry {morphs = FaCaL, entity = Verb [I] [] [FCuL] [] [] Nothing Nothing, limits = (TagsVerb [],[]), reflex = [\"...\"]}"
      ]
     },
     "metadata": {},
     "output_type": "display_data"
    }
   ],
   "source": [
    "FaCaL `verb` [\"...\"] `imperf` FCuL"
   ]
  },
  {
   "cell_type": "code",
   "execution_count": 9,
   "metadata": {
    "collapsed": false
   },
   "outputs": [
    {
     "data": {
      "text/plain": [
       "VP-A-3MS--\tFaCaLa\t\"\"\tFaCaL |<< \"a\"\n",
       "VIIA-3MS--\tyaFCuLu\t\"\"\t\"ya\" >>| FCuL |<< \"u\"\n",
       "VISA-3MS--\tyaFCuLa\t\"\"\t\"ya\" >>| FCuL |<< \"a\"\n",
       "VIJA-3MS--\tyaFCuL\t\"\"\t\"ya\" >>| FCuL |<< \"\"\n",
       "VIEA-3MS--\tyaFCuLanna\t\"\"\t\"ya\" >>| FCuL |<< \"anna\"\n",
       "VCJ---MS--\tuFCuL\t\"\"\t\"u\" >>| FCuL |<< \"\"\n",
       "VCE---MS--\tuFCuLanna\t\"\"\t\"u\" >>| FCuL |<< \"anna\""
      ]
     },
     "metadata": {},
     "output_type": "display_data"
    }
   ],
   "source": [
    "pretty $ inflect (FaCaL `verb` [\"...\"] `imperf` FCuL) \"V--A-3MS--\""
   ]
  },
  {
   "cell_type": "code",
   "execution_count": 10,
   "metadata": {
    "collapsed": false
   },
   "outputs": [
    {
     "data": {
      "text/plain": [
       "VP-A-3MS--\twalY\t\"w l y\"\tFaCY |<< \"a\"\n",
       "VIIA-3MS--\tyalI\t\"w l y\"\t\"ya\" >>| CI |<< \"u\"\n",
       "VISA-3MS--\tyaliya\t\"w l y\"\t\"ya\" >>| CI |<< \"a\"\n",
       "VIJA-3MS--\tyali\t\"w l y\"\t\"ya\" >>| CI |<< \"\"\n",
       "VIEA-3MS--\tyaliyanna\t\"w l y\"\t\"ya\" >>| CI |<< \"anna\"\n",
       "VCJ---MS--\tli\t\"w l y\"\t\"\" >>| CI |<< \"\"\n",
       "VCE---MS--\tliyanna\t\"w l y\"\t\"\" >>| CI |<< \"anna\""
      ]
     },
     "metadata": {},
     "output_type": "display_data"
    }
   ],
   "source": [
    "pretty $ inflect (\"w l y\" >|< FaCY `verb` [\"...\"] `imperf` CI) \"V--A-3MS--\""
   ]
  },
  {
   "cell_type": "markdown",
   "metadata": {},
   "source": [
    "## Derive"
   ]
  },
  {
   "cell_type": "code",
   "execution_count": 11,
   "metadata": {
    "collapsed": false
   },
   "outputs": [
    {
     "data": {
      "text/plain": [
       "Lexeme \"' s y\" (Entry {morphs = FACY, entity = Verb [III] [] [] [] [] Nothing Nothing, limits = (TagsVerb [],[]), reflex = [\"console\",\"comfort\"]})"
      ]
     },
     "metadata": {},
     "output_type": "display_data"
    }
   ],
   "source": [
    "\"' s y\" >|< FACY `verb` [\"console\", \"comfort\"]"
   ]
  },
  {
   "cell_type": "code",
   "execution_count": 12,
   "metadata": {
    "collapsed": false
   },
   "outputs": [
    {
     "data": {
      "text/plain": [
       "V---------\tIII\t'AsY\t\"' s y\"\tFACY\n",
       "N---------\tIII\tmu'AsAT\t\"' s y\"\tMuFACY |< aT\n",
       "A--A------\tIII\tmu'AsI\t\"' s y\"\tMuFACI\n",
       "A--P------\tIII\tmu'AsY\t\"' s y\"\tMuFACY"
      ]
     },
     "metadata": {},
     "output_type": "display_data"
    }
   ],
   "source": [
    "pretty $ derive (\"' s y\" >|< FACY `verb` [\"...\"]) \"----------\""
   ]
  },
  {
   "cell_type": "code",
   "execution_count": 13,
   "metadata": {
    "collapsed": false
   },
   "outputs": [
    {
     "data": {
      "text/plain": [
       "Lexeme \"' s y\" (Entry {morphs = HACY, entity = Verb [IV] [] [] [] [] Nothing Nothing, limits = (TagsVerb [],[]), reflex = [\"sadden\",\"discomfort\"]})"
      ]
     },
     "metadata": {},
     "output_type": "display_data"
    }
   ],
   "source": [
    "\"' s y\" >|< HACY `verb` [\"sadden\", \"discomfort\"]"
   ]
  },
  {
   "cell_type": "code",
   "execution_count": 14,
   "metadata": {
    "collapsed": false
   },
   "outputs": [
    {
     "data": {
      "text/plain": [
       "V---------\tIV\t'AsY\t\"' s y\"\tHACY\n",
       "N---------\tIV\t'IsA'\t\"' s y\"\tHICA'\n",
       "A--A------\tIV\tmu'sI\t\"' s y\"\tMuFCI\n",
       "A--P------\tIV\tmu'sY\t\"' s y\"\tMuFCY"
      ]
     },
     "metadata": {},
     "output_type": "display_data"
    }
   ],
   "source": [
    "pretty $ derive (\"' s y\" >|< HACY `verb` [\"...\"]) \"----------\""
   ]
  },
  {
   "cell_type": "markdown",
   "metadata": {},
   "source": [
    "## Resolve"
   ]
  },
  {
   "cell_type": "code",
   "execution_count": 15,
   "metadata": {
    "collapsed": false
   },
   "outputs": [
    {
     "data": {
      "text/plain": [
       "iqra'\tiqra'\tVCJ---MS--\tiqra'\t\"i\" >>| FCaL |<< \"\"\t\"q r '\"\tFaCaL\tqara'\t(1224,1)\t[\"read\"]\n",
       "     \tiqra'I\tVCJ---FS--\tiqra'I\t\"i\" >>| FCaL |<< \"I\"\t\"q r '\"\tFaCaL\tqara'\t(1224,1)\t[\"read\"]\n",
       "     \tiqra'A\tVCJ---MD--\tiqra'A\t\"i\" >>| FCaL |<< \"A\"\t\"q r '\"\tFaCaL\tqara'\t(1224,1)\t[\"read\"]\n",
       "     \tiqra'A\tVCJ---FD--\tiqra'A\t\"i\" >>| FCaL |<< \"A\"\t\"q r '\"\tFaCaL\tqara'\t(1224,1)\t[\"read\"]\n",
       "     \tiqra'UW\tVCJ---MP--\tiqra'UW\t\"i\" >>| FCaL |<< \"UW\"\t\"q r '\"\tFaCaL\tqara'\t(1224,1)\t[\"read\"]"
      ]
     },
     "metadata": {},
     "output_type": "display_data"
    }
   ],
   "source": [
    "pretty $ resolve \"iqra'\""
   ]
  },
  {
   "cell_type": "code",
   "execution_count": 16,
   "metadata": {
    "collapsed": false,
    "encoding": "utf-8"
   },
   "outputs": [
    {
     "data": {
      "text/plain": [
       "Ø§ÙÙØ±ÙØ£\tiqra'\tVCJ---MS--\tiqra'\t\"i\" >>| FCaL |<< \"\"\t\"q r '\"\tFaCaL\tqara'\t(1224,1)\t[\"read\"]\n",
       "      \tiqra'A\tVCJ---MD--\tiqra'A\t\"i\" >>| FCaL |<< \"A\"\t\"q r '\"\tFaCaL\tqara'\t(1224,1)\t[\"read\"]\n",
       "      \tiqra'A\tVCJ---FD--\tiqra'A\t\"i\" >>| FCaL |<< \"A\"\t\"q r '\"\tFaCaL\tqara'\t(1224,1)\t[\"read\"]"
      ]
     },
     "metadata": {},
     "output_type": "display_data"
    }
   ],
   "source": [
    "pretty $ resolve (decode TeX \"iqra'\")"
   ]
  },
  {
   "cell_type": "code",
   "execution_count": 17,
   "metadata": {
    "collapsed": false
   },
   "outputs": [
    {
     "data": {
      "text/plain": [
       "\"\\1575\\1616\\1602\\1585\\1614\\1571\""
      ]
     },
     "metadata": {},
     "output_type": "display_data"
    }
   ],
   "source": [
    "encode UCS $ decode TeX \"iqra'\""
   ]
  },
  {
   "cell_type": "code",
   "execution_count": 18,
   "metadata": {
    "collapsed": false
   },
   "outputs": [
    {
     "data": {
      "text/plain": [
       "\"OahlFA wasahlFA\""
      ]
     },
     "metadata": {},
     "output_type": "display_data"
    }
   ],
   "source": [
    "encode Tim $ decode TeX \"'ahlaN wa-sahlaN\""
   ]
  },
  {
   "cell_type": "code",
   "execution_count": 19,
   "metadata": {
    "collapsed": false
   },
   "outputs": [
    {
     "data": {
      "text/plain": [
       "'AsY\t'AsY\tVIIA-1MS--\t'AsY\t\"'a\" >>| FCY |<< \"u\"\t\"' s y\"\tFaCI\t'asI\t(266,1)\t[\"be sad\",\"grieve\"]\n",
       "    \t'AsY\tVIIA-1FS--\t'AsY\t\"'a\" >>| FCY |<< \"u\"\t\"' s y\"\tFaCI\t'asI\t(266,1)\t[\"be sad\",\"grieve\"]\n",
       "    \t'AsY\tVISA-1MS--\t'AsY\t\"'a\" >>| FCY |<< \"a\"\t\"' s y\"\tFaCI\t'asI\t(266,1)\t[\"be sad\",\"grieve\"]\n",
       "    \t'AsY\tVISA-1FS--\t'AsY\t\"'a\" >>| FCY |<< \"a\"\t\"' s y\"\tFaCI\t'asI\t(266,1)\t[\"be sad\",\"grieve\"]\n",
       "    \t'AsY\tVP-A-3MS--\t'AsY\tFACY |<< \"a\"\t\"' s y\"\tFACY\t'AsY\t(266,10)\t[\"console\",\"comfort\"]\n",
       "    \t'AsY\tVP-A-3MS--\t'AsY\tHACY |<< \"a\"\t\"' s y\"\tHACY\t'AsY\t(266,14)\t[\"grieve\",\"afflict\",\"be aggrieved\"]\n",
       "\n",
       "mu'siN\tmu'AsiN\tA-----MS1I\tmu'AsiN\tMuFACI |<< \"uN\"\t\"' s y\"\tMuFACI\tmu'AsI\t(266,12)\t[\"console\",\"comfort\"]\n",
       "      \tmu'AsiN\tA-----MS2I\tmu'AsiN\tMuFACI |<< \"iN\"\t\"' s y\"\tMuFACI\tmu'AsI\t(266,12)\t[\"console\",\"comfort\"]\n",
       "      \tmu'siN\tA-----MS1I\tmu'siN\tMuFCI |<< \"uN\"\t\"' s y\"\tMuFCI\tmu'sI\t(266,16)\t[\"grieve\",\"afflict\",\"be aggrieved\"]\n",
       "      \tmu'siN\tA-----MS2I\tmu'siN\tMuFCI |<< \"iN\"\t\"' s y\"\tMuFCI\tmu'sI\t(266,16)\t[\"grieve\",\"afflict\",\"be aggrieved\"]\n",
       "      \tmu'AsiN\tA-----MS1I\tmu'AsiN\tMuFACI |<< \"uN\"\t\"' s y\"\tMuFACI\tmu'AsI\t(266,37)\t[\"comforting\",\"consoling\"]\n",
       "      \tmu'AsiN\tA-----MS2I\tmu'AsiN\tMuFACI |<< \"iN\"\t\"' s y\"\tMuFACI\tmu'AsI\t(266,37)\t[\"comforting\",\"consoling\"]\n",
       "      \tmu'siN\tA-----MS1I\tmu'siN\tMuFCI |<< \"uN\"\t\"' s y\"\tMuFCI\tmu'sI\t(266,38)\t[\"saddening\",\"discomforting\"]\n",
       "      \tmu'siN\tA-----MS2I\tmu'siN\tMuFCI |<< \"iN\"\t\"' s y\"\tMuFCI\tmu'sI\t(266,38)\t[\"saddening\",\"discomforting\"]"
      ]
     },
     "metadata": {},
     "output_type": "display_data"
    }
   ],
   "source": [
    "pretty $ resolve \"'AsY mu'siN\""
   ]
  },
  {
   "cell_type": "markdown",
   "metadata": {},
   "source": [
    "## Lookup"
   ]
  },
  {
   "cell_type": "code",
   "execution_count": 20,
   "metadata": {
    "collapsed": false
   },
   "outputs": [
    {
     "data": {
      "text/plain": [
       "(26,[1])\t(26,1)\tSP--------\thuwa\t\"\"\t\"huwa\"\t[\"he\",\"she\",\"it\"]\t[]\n",
       "        \t      \tSP---1-[DP][24]-\tnA\t\"\"\t\"nA\"\n",
       "        \t      \tSP---1-[DP]1-\tna.hnu\t\"\"\t\"na.hnu\"\n",
       "        \t      \tSP---1-S[42]-\tnI\t\"\"\t\"nI\"\n",
       "        \t      \tSP---1-S2-\tya\t\"\"\t\"ya\"\n",
       "        \t      \t          \t|I\t\"\"\t\"|I\"\n",
       "        \t      \tSP---1-S1-\t'anA\t\"\"\t\"'anA\"\n",
       "        \t      \tSP---2FP[24]-\tkunna\t\"\"\t\"kunna\"\n",
       "        \t      \tSP---2FP1-\t'antunna\t\"\"\t\"'antunna\"\n",
       "        \t      \tSP---2MP[24]-\tkum\t\"\"\t\"kum\"\n",
       "        \t      \tSP---2MP1-\t'antum\t\"\"\t\"'antum\"\n",
       "        \t      \tSP---2-D[24]-\tkumA\t\"\"\t\"kumA\"\n",
       "        \t      \tSP---2-D1-\t'antumA\t\"\"\t\"'antumA\"\n",
       "        \t      \tSP---2FS[24]-\tki\t\"\"\t\"ki\"\n",
       "        \t      \tSP---2FS1-\t'anti\t\"\"\t\"'anti\"\n",
       "        \t      \tSP---2MS[24]-\tka\t\"\"\t\"ka\"\n",
       "        \t      \tSP---2MS1-\t'anta\t\"\"\t\"'anta\"\n",
       "        \t      \tSP---3FP[24]-\thinna\t\"\"\t\"hinna\"\n",
       "        \t      \tSP---3FP--\thunna\t\"\"\t\"hunna\"\n",
       "        \t      \tSP---3MP[24]-\thim\t\"\"\t\"him\"\n",
       "        \t      \tSP---3MP--\thum\t\"\"\t\"hum\"\n",
       "        \t      \tSP---3-D[24]-\thimA\t\"\"\t\"himA\"\n",
       "        \t      \tSP---3-D--\thumA\t\"\"\t\"humA\"\n",
       "        \t      \tSP---3FS[24]-\thA\t\"\"\t\"hA\"\n",
       "        \t      \tSP---3FS1-\thiya\t\"\"\t\"hiya\"\n",
       "        \t      \tSP---3MS[24]-\thi\t\"\"\t\"hi\"\n",
       "        \t      \t             \thu\t\"\"\t\"hu\"\n",
       "(35,[1])\t(35,1)\tSD-----D--\tkilA\t\"k l\"\t\"kil\" |<< \"A\"\t[\"both of\",\"both of them\"]\t[]\n",
       "        \t      \tSD----FD[24]-\tkiltA\t\"k l\"\t\"kil\" |<< \"t\" |<< \"A\"\n",
       "        \t      \t             \tkiltay\t\"k l\"\t\"kil\" |<< \"t\" |<< \"ay\"\n",
       "        \t      \tSD----FD1-\tkiltA\t\"k l\"\t\"kil\" |<< \"t\" |<< \"A\"\n",
       "        \t      \tSD----MD[24]-\tkilA\t\"k l\"\t\"kil\" |<< \"A\"\n",
       "        \t      \t             \tkilay\t\"k l\"\t\"kil\" |<< \"ay\"\n",
       "(36,[1,2])\t(36,1)\tSD--------\t_d_alika\t\"k\"\t\"_d_a\" |<< \"li\" |<< \"ka\"\t[\"that\",\"those\"]\t[]\n",
       "          \t      \tSD-----P--\t'_Ul_a'ika\t\"k\"\t\"'_Ul_a'i\" |<< \"ka\"\n",
       "          \t      \t          \t'_UlA'ika\t\"k\"\t\"'_UlA'i\" |<< \"ka\"\n",
       "          \t      \tSD----FD[24]-\ttaynika\t\"k\"\t\"t\" |<< \"ayni\" |<< \"ka\"\n",
       "          \t      \tSD----FD1-\ttAnika\t\"k\"\t\"t\" |<< \"Ani\" |<< \"ka\"\n",
       "          \t      \tSD----MD[24]-\t_daynika\t\"k\"\t\"_d\" |<< \"ayni\" |<< \"ka\"\n",
       "          \t      \tSD----MD1-\t_dAnika\t\"k\"\t\"_d\" |<< \"Ani\" |<< \"ka\"\n",
       "          \t      \tSD----FS--\ttilka\t\"k\"\t\"t\" |<< \"il\" |<< \"ka\"\n",
       "          \t(36,2)\tSD-----S--\t_dAka\t\"k\"\t\"_dA\" |<< \"ka\"\t[\"that\"]\t[]\n",
       "          \t      \tSD----FS--\ttIka\t\"k\"\t\"tI\" |<< \"ka\"\n",
       "          \t      \t          \ttAka\t\"k\"\t\"tA\" |<< \"ka\"\n",
       "(37,[1])\t(37,1)\tSD--------\th_a_dA\t\"h\"\t\"h_a\" >>| \"_dA\"\t[\"this\",\"these\"]\t[]\n",
       "        \t      \tSD-----P--\th_a'ulA'i\t\"h\"\t\"h_a\" >>| \"'ulA'i\"\n",
       "        \t      \tSD----FD[24]-\thAtayni\t\"h\"\t\"hA\" >>| \"t\" |<< \"ayni\"\n",
       "        \t      \tSD----FD1-\thAtAni\t\"h\"\t\"hA\" >>| \"t\" |<< \"Ani\"\n",
       "        \t      \tSD----MD[24]-\th_a_dayni\t\"h\"\t\"h_a\" >>| \"_d\" |<< \"ayni\"\n",
       "        \t      \tSD----MD1-\th_a_dAni\t\"h\"\t\"h_a\" >>| \"_d\" |<< \"Ani\"\n",
       "        \t      \tSD----FS--\th_a_dI\t\"h\"\t\"h_a\" >>| \"_dI\"\n",
       "        \t      \t          \th_a_dihi\t\"h\"\t\"h_a\" >>| \"_d\" |<< \"ihi\"\n",
       "(38,[1])\t(38,1)\tSR--------\talla_dI\t\"l\"\t\"al\" >>| \"la_dI\"\t[\"that\",\"which\"]\t[]\n",
       "        \t      \tSR----FP--\tal-lA'I\t\"l\"\tal >| \"lA'I\"\n",
       "        \t      \t          \tal-lawAtI\t\"l\"\tal >| \"lawAtI\"\n",
       "        \t      \t          \tal-lAtI\t\"l\"\tal >| \"lAtI\"\n",
       "        \t      \tSR----MP--\talla_dIna\t\"l\"\t\"al\" >>| \"la_dIna\"\n",
       "        \t      \tSR----FD[24]-\tal-latayni\t\"l\"\tal >| \"lat\" |<< \"ayni\"\n",
       "        \t      \tSR----FD1-\tal-latAni\t\"l\"\tal >| \"lat\" |<< \"Ani\"\n",
       "        \t      \tSR----MD[24]-\tal-la_dayni\t\"l\"\tal >| \"la_d\" |<< \"ayni\"\n",
       "        \t      \tSR----MD1-\tal-la_dAni\t\"l\"\tal >| \"la_d\" |<< \"Ani\"\n",
       "        \t      \tSR----FS--\tallatI\t\"l\"\t\"al\" >>| \"latI\"\n",
       "(39,[1,2])\t(39,1)\tSD-----P--\t'_UlU\t\"l\"\t\"'_Ul\" |<< \"U\"\t[\"the one of\",\"the one with\"]\t[]\n",
       "          \t      \tSD----FP[24]-\t'_UlAti\t\"l\"\t\"'_Ul\" |< At |<< \"i\"\n",
       "          \t      \tSD----FP1-\t'_UlAtu\t\"l\"\t\"'_Ul\" |< At |<< \"u\"\n",
       "          \t      \tSD----MP[24]-\t'_UlI\t\"l\"\t\"'_Ul\" |<< \"I\"\n",
       "          \t(39,2)\tSD-----P--\t'_UlA'i\t\"l\"\t\"'_UlA'i\"\t[\"these\"]\t[]\n",
       "(40,[1,2])\t(40,1)\tSD--------\t_dU\t\"_d\"\t\"FU\" |<< \"u\"\t[\"the one of\",\"the one with\"]\t[]\n",
       "          \t      \tSD----FP[24]-\t_dawAti\t\"_d\"\t\"FA\" |< At |<< \"i\"\n",
       "          \t      \tSD----FP1-\t_dawAtu\t\"_d\"\t\"FA\" |< At |<< \"u\"\n",
       "          \t      \tSD----FD[24]-\t_dawAtay\t\"_d\"\t\"FA\" |< At |<< \"ay\"\n",
       "          \t      \t             \t_dAtay\t\"_d\"\t\"FA\" |<< \"t\" |<< \"ay\"\n",
       "          \t      \tSD----FD1-\t_dawAtA\t\"_d\"\t\"FA\" |< At |<< \"A\"\n",
       "          \t      \t          \t_dAtA\t\"_d\"\t\"FA\" |<< \"t\" |<< \"A\"\n",
       "          \t      \tSD----FS4-\t_dAta\t\"_d\"\t\"FA\" |<< \"t\" |<< \"a\"\n",
       "          \t      \tSD----FS2-\t_dAti\t\"_d\"\t\"FA\" |<< \"t\" |<< \"i\"\n",
       "          \t      \tSD----FS1-\t_dAtu\t\"_d\"\t\"FA\" |<< \"t\" |<< \"u\"\n",
       "          \t      \tSD----MP[24]-\t_dawI\t\"_d\"\t\"FA\" |<< \"I\"\n",
       "          \t      \tSD----MP1-\t_dawU\t\"_d\"\t\"FA\" |<< \"U\"\n",
       "          \t      \tSD----MD[24]-\t_daway\t\"_d\"\t\"FA\" |<< \"ay\"\n",
       "          \t      \tSD----MD1-\t_dawA\t\"_d\"\t\"FA\" |<< \"A\"\n",
       "          \t      \tSD----MS4-\t_dA\t\"_d\"\t\"FA\" |<< \"a\"\n",
       "          \t      \tSD----MS2-\t_dI\t\"_d\"\t\"FI\" |<< \"i\"\n",
       "          \t(40,2)\tSD-----S--\t_dA\t\"_d\"\t\"FA\"\t[\"this\"]\t[]\n",
       "          \t      \tSD----FS--\t_dI\t\"_d\"\t\"FI\"\n",
       "(572,[1])\t(572,1)\tS---------\t'ayna\t\"'ayn\"\t_____ |<< \"a\"\t[\"where\"]\t[]\n",
       "(1367,[1])\t(1367,1)\tS---------\tkam\t\"k m m\"\tFaC\t[\"how many / much\"]\t[]\n",
       "(1412,[6])\t(1412,6)\tS---------\tkayfa\t\"k y f\"\tFaCL |<< \"a\"\t[\"how\"]\t[]\n",
       "(1429,[1])\t(1429,1)\tS---------\tmatY\t\"m t y\"\tFaCY\t[\"when\"]\t[]\n",
       "(5130,[5,7])\t(5130,5)\tS---------\tka_dA\t\"ka\"\t_____ |<< \"_dA\"\t[\"such\",\"as such\"]\t[]\n",
       "            \t(5130,7)\tS---------\th_aka_dA\t\"ka\"\t\"h_a\" >>| _____ |<< \"_dA\"\t[\"such\",\"as such\"]\t[]\n",
       "(5446,[1,2,3])\t(5446,1)\tS---------\tmA\t\"mA\"\t_____\t[\"what\",\"which\"]\t[]\n",
       "              \t(5446,2)\tS---------\tmA\t\"mA\"\t_____\t[\"whichever\",\"- ever\"]\t[]\n",
       "              \t(5446,3)\tS---------\tmA_dA\t\"mA\"\t_____ |<< \"_dA\"\t[\"what\"]\t[]\n",
       "(5693,[1])\t(5693,1)\tS---------\tman\t\"man\"\t_____\t[\"who\"]\t[]\n",
       "(8757,[5,6,7])\t(8757,5)\tS---------\tlimA_dA\t\"li\"\t_____ |<< \"mA_dA\"\t[\"why\"]\t[]\n",
       "              \t(8757,6)\tS---------\tlimA\t\"li\"\t_____ |<< \"mA\"\t[\"why\"]\t[]\n",
       "              \t(8757,7)\tS---------\tlima\t\"li\"\t_____ |<< \"ma\"\t[\"why\"]\t[]"
      ]
     },
     "metadata": {},
     "output_type": "display_data"
    }
   ],
   "source": [
    "pretty $ lookup $ convert \"S---------\""
   ]
  },
  {
   "cell_type": "code",
   "execution_count": 21,
   "metadata": {
    "collapsed": false
   },
   "outputs": [
    {
     "data": {
      "text/plain": [
       "[(26,[1]),(35,[1]),(36,[1,2]),(37,[1]),(38,[1]),(39,[1,2]),(40,[1,2]),(572,[1]),(1367,[1]),(1412,[6]),(1429,[1]),(5130,[5,7]),(5446,[1,2,3]),(5693,[1]),(8757,[5,6,7])]"
      ]
     },
     "metadata": {},
     "output_type": "display_data"
    }
   ],
   "source": [
    "lookup (convert \"S---------\")"
   ]
  },
  {
   "cell_type": "code",
   "execution_count": 22,
   "metadata": {
    "collapsed": false
   },
   "outputs": [
    {
     "data": {
      "text/plain": [
       "(12,[1,2,3,4])\t(12,1)\tQX--------\t`a^saraT\t\"` ^s r\"\tFaCaL |< aT\t[\"ten\"]\t[]\n",
       "              \t      \t------F---\t`a^sr\t\"` ^s r\"\tFaCL\n",
       "              \t(12,2)\tQM-----[SP]--\t`a^saraT\t\"` ^s r\"\tFaCaL |< aT\t[\"ten\",\"score\",\"dozen\"]\t[]\n",
       "              \t      \t-------P--\t`a^sarAt\t\"` ^s r\"\tFaCaL |< At\n",
       "              \t(12,3)\tQY--------\t`a^sar\t\"` ^s r\"\tFaCaL\t[\"- teen\"]\t[]\n",
       "              \t      \t------F---\t`a^sraT\t\"` ^s r\"\tFaCL |< aT\n",
       "              \t(12,4)\tQL--------\t`i^srUn\t\"` ^s r\"\tFiCL |< Un\t[\"twenty\"]\t[]"
      ]
     },
     "metadata": {},
     "output_type": "display_data"
    }
   ],
   "source": [
    "pretty $ lookup (convert \"Q---------\") `with` \"` ^s r\""
   ]
  },
  {
   "cell_type": "code",
   "execution_count": 23,
   "metadata": {
    "collapsed": false
   },
   "outputs": [
    {
     "data": {
      "text/plain": [
       "[\"ten\"]"
      ]
     },
     "metadata": {},
     "output_type": "display_data"
    },
    {
     "data": {
      "text/plain": [
       "[\"ten\",\"thousand\"]"
      ]
     },
     "metadata": {},
     "output_type": "display_data"
    },
    {
     "data": {
      "text/html": [
       "<style>/* Styles used for the Hoogle display in the pager */\n",
       ".hoogle-doc {\n",
       "display: block;\n",
       "padding-bottom: 1.3em;\n",
       "padding-left: 0.4em;\n",
       "}\n",
       ".hoogle-code {\n",
       "display: block;\n",
       "font-family: monospace;\n",
       "white-space: pre;\n",
       "}\n",
       ".hoogle-text {\n",
       "display: block;\n",
       "}\n",
       ".hoogle-name {\n",
       "color: green;\n",
       "font-weight: bold;\n",
       "}\n",
       ".hoogle-head {\n",
       "font-weight: bold;\n",
       "}\n",
       ".hoogle-sub {\n",
       "display: block;\n",
       "margin-left: 0.4em;\n",
       "}\n",
       ".hoogle-package {\n",
       "font-weight: bold;\n",
       "font-style: italic;\n",
       "}\n",
       ".hoogle-module {\n",
       "font-weight: bold;\n",
       "}\n",
       ".hoogle-class {\n",
       "font-weight: bold;\n",
       "}\n",
       ".get-type {\n",
       "color: green;\n",
       "font-weight: bold;\n",
       "font-family: monospace;\n",
       "display: block;\n",
       "white-space: pre-wrap;\n",
       "}\n",
       ".show-type {\n",
       "color: green;\n",
       "font-weight: bold;\n",
       "font-family: monospace;\n",
       "margin-left: 1em;\n",
       "}\n",
       ".mono {\n",
       "font-family: monospace;\n",
       "display: block;\n",
       "}\n",
       ".err-msg {\n",
       "color: red;\n",
       "font-style: italic;\n",
       "font-family: monospace;\n",
       "white-space: pre;\n",
       "display: block;\n",
       "}\n",
       "#unshowable {\n",
       "color: red;\n",
       "font-weight: bold;\n",
       "}\n",
       ".err-msg.in.collapse {\n",
       "padding-top: 0.7em;\n",
       "}\n",
       ".highlight-code {\n",
       "white-space: pre;\n",
       "font-family: monospace;\n",
       "}\n",
       ".suggestion-warning { \n",
       "font-weight: bold;\n",
       "color: rgb(200, 130, 0);\n",
       "}\n",
       ".suggestion-error { \n",
       "font-weight: bold;\n",
       "color: red;\n",
       "}\n",
       ".suggestion-name {\n",
       "font-weight: bold;\n",
       "}\n",
       "</style><span class='get-type'>it :: [String]</span>"
      ],
      "text/plain": [
       "it :: [String]"
      ]
     },
     "metadata": {},
     "output_type": "display_data"
    }
   ],
   "source": [
    "words \"ten\"\n",
    "words \"ten thousand\"\n",
    ":t it"
   ]
  },
  {
   "cell_type": "code",
   "execution_count": 24,
   "metadata": {
    "collapsed": false
   },
   "outputs": [
    {
     "data": {
      "text/plain": [
       "[['t','e','n']]"
      ]
     },
     "metadata": {},
     "output_type": "display_data"
    },
    {
     "data": {
      "text/plain": [
       "[['t','e','n'],['d','o','z','e','n']]"
      ]
     },
     "metadata": {},
     "output_type": "display_data"
    },
    {
     "data": {
      "text/html": [
       "<style>/* Styles used for the Hoogle display in the pager */\n",
       ".hoogle-doc {\n",
       "display: block;\n",
       "padding-bottom: 1.3em;\n",
       "padding-left: 0.4em;\n",
       "}\n",
       ".hoogle-code {\n",
       "display: block;\n",
       "font-family: monospace;\n",
       "white-space: pre;\n",
       "}\n",
       ".hoogle-text {\n",
       "display: block;\n",
       "}\n",
       ".hoogle-name {\n",
       "color: green;\n",
       "font-weight: bold;\n",
       "}\n",
       ".hoogle-head {\n",
       "font-weight: bold;\n",
       "}\n",
       ".hoogle-sub {\n",
       "display: block;\n",
       "margin-left: 0.4em;\n",
       "}\n",
       ".hoogle-package {\n",
       "font-weight: bold;\n",
       "font-style: italic;\n",
       "}\n",
       ".hoogle-module {\n",
       "font-weight: bold;\n",
       "}\n",
       ".hoogle-class {\n",
       "font-weight: bold;\n",
       "}\n",
       ".get-type {\n",
       "color: green;\n",
       "font-weight: bold;\n",
       "font-family: monospace;\n",
       "display: block;\n",
       "white-space: pre-wrap;\n",
       "}\n",
       ".show-type {\n",
       "color: green;\n",
       "font-weight: bold;\n",
       "font-family: monospace;\n",
       "margin-left: 1em;\n",
       "}\n",
       ".mono {\n",
       "font-family: monospace;\n",
       "display: block;\n",
       "}\n",
       ".err-msg {\n",
       "color: red;\n",
       "font-style: italic;\n",
       "font-family: monospace;\n",
       "white-space: pre;\n",
       "display: block;\n",
       "}\n",
       "#unshowable {\n",
       "color: red;\n",
       "font-weight: bold;\n",
       "}\n",
       ".err-msg.in.collapse {\n",
       "padding-top: 0.7em;\n",
       "}\n",
       ".highlight-code {\n",
       "white-space: pre;\n",
       "font-family: monospace;\n",
       "}\n",
       ".suggestion-warning { \n",
       "font-weight: bold;\n",
       "color: rgb(200, 130, 0);\n",
       "}\n",
       ".suggestion-error { \n",
       "font-weight: bold;\n",
       "color: red;\n",
       "}\n",
       ".suggestion-name {\n",
       "font-weight: bold;\n",
       "}\n",
       "</style><span class='get-type'>it :: [[UPoint]]</span>"
      ],
      "text/plain": [
       "it :: [[UPoint]]"
      ]
     },
     "metadata": {},
     "output_type": "display_data"
    }
   ],
   "source": [
    "sense \"ten\"\n",
    "senses [\"ten\", \"dozen\"]\n",
    ":t it"
   ]
  },
  {
   "cell_type": "code",
   "execution_count": 25,
   "metadata": {
    "collapsed": false
   },
   "outputs": [
    {
     "data": {
      "text/plain": [
       "(8,[1])\t(8,1)\tQM--------\tribwaT\t\"r b w\"\tFiCL |< aT\t[\"ten thousand\",\"myriad\"]\t[]\n",
       "       \t     \t-------P--\tribwAt\t\"r b w\"\tFiCL |< At\n",
       "(12,[1,2])\t(12,1)\tQX--------\t`a^saraT\t\"` ^s r\"\tFaCaL |< aT\t[\"ten\"]\t[]\n",
       "          \t      \t------F---\t`a^sr\t\"` ^s r\"\tFaCL\n",
       "          \t(12,2)\tQM-----[SP]--\t`a^saraT\t\"` ^s r\"\tFaCaL |< aT\t[\"ten\",\"score\",\"dozen\"]\t[]\n",
       "          \t      \t-------P--\t`a^sarAt\t\"` ^s r\"\tFaCaL |< At"
      ]
     },
     "metadata": {},
     "output_type": "display_data"
    }
   ],
   "source": [
    "pretty $ lookup (convert \"Q---------\") `with` words \"ten\""
   ]
  },
  {
   "cell_type": "code",
   "execution_count": 26,
   "metadata": {
    "collapsed": false
   },
   "outputs": [
    {
     "data": {
      "text/plain": [
       "(8,[1])\t(8,1)\tQM--------\tribwaT\t\"r b w\"\tFiCL |< aT\t[\"ten thousand\",\"myriad\"]\t[]\n",
       "       \t     \t-------P--\tribwAt\t\"r b w\"\tFiCL |< At"
      ]
     },
     "metadata": {},
     "output_type": "display_data"
    }
   ],
   "source": [
    "pretty $ lookup (convert \"Q---------\") `with` [\"ten thousand\"]"
   ]
  },
  {
   "cell_type": "code",
   "execution_count": 27,
   "metadata": {
    "collapsed": false,
    "scrolled": true
   },
   "outputs": [
    {
     "data": {
      "text/plain": [
       "(5156,[36])\t(5156,36)\tN---------\tkuttAb\t\"k t b\"\tFuCCAL\t[\"kuttab ( village school )\",\"Quran school\"]\t[]\n",
       "           \t         \t-------P--\tkatAtIb\t\"k t b\"\tFaCACIL"
      ]
     },
     "metadata": {},
     "output_type": "display_data"
    }
   ],
   "source": [
    "pretty $ lookup (convert \"N---------\") `with` words \"village kuttab\""
   ]
  },
  {
   "cell_type": "code",
   "execution_count": 28,
   "metadata": {
    "collapsed": false
   },
   "outputs": [
    {
     "data": {
      "text/plain": [
       "(12,[1,2])\t(12,1)\tQX--------\t`a^saraT\t\"` ^s r\"\tFaCaL |< aT\t[\"ten\"]\t[]\n",
       "          \t      \t------F---\t`a^sr\t\"` ^s r\"\tFaCL\n",
       "          \t(12,2)\tQM-----[SP]--\t`a^saraT\t\"` ^s r\"\tFaCaL |< aT\t[\"ten\",\"score\",\"dozen\"]\t[]\n",
       "          \t      \t-------P--\t`a^sarAt\t\"` ^s r\"\tFaCaL |< At"
      ]
     },
     "metadata": {},
     "output_type": "display_data"
    }
   ],
   "source": [
    "pretty $ lookup (convert \"Q---------\") `with` sense \"ten\""
   ]
  },
  {
   "cell_type": "code",
   "execution_count": 29,
   "metadata": {
    "collapsed": false
   },
   "outputs": [
    {
     "data": {
      "text/plain": [
       "(12,[2])\t(12,2)\tQM-----[SP]--\t`a^saraT\t\"` ^s r\"\tFaCaL |< aT\t[\"ten\",\"score\",\"dozen\"]\t[]\n",
       "        \t      \t-------P--\t`a^sarAt\t\"` ^s r\"\tFaCaL |< At"
      ]
     },
     "metadata": {},
     "output_type": "display_data"
    }
   ],
   "source": [
    "pretty $ lookup (convert \"Q---------\") `with` senses [\"ten\", \"dozen\"]"
   ]
  },
  {
   "cell_type": "code",
   "execution_count": 30,
   "metadata": {
    "collapsed": false
   },
   "outputs": [
    {
     "data": {
      "text/plain": [
       "(5156,[36])\t(5156,36)\tN---------\tkuttAb\t\"k t b\"\tFuCCAL\t[\"kuttab ( village school )\",\"Quran school\"]\t[]\n",
       "           \t         \t-------P--\tkatAtIb\t\"k t b\"\tFaCACIL"
      ]
     },
     "metadata": {},
     "output_type": "display_data"
    }
   ],
   "source": [
    "pretty $ lookup (convert \"N---------\") `with` senses [\"Quran school\", \"kuttab ( village school )\"]"
   ]
  },
  {
   "cell_type": "code",
   "execution_count": 31,
   "metadata": {
    "collapsed": false
   },
   "outputs": [
    {
     "data": {
      "text/plain": [
       "[[\"' t y\"],[\"' s y\"],[\"' k l\"],[\"' l f\"],[\"' n s\"],[\"b d '\"],[\"b d w\"],[\"b r '\"],[\"b l y\"],[\"b y `\"],[\"b y n\"],[\"^g r y\"],[\"^g z y\"],[\"^g w b\"],[\"^g w r\"],[\"^g w z\"],[\".h d d\"],[\".h .s .s\"],[\".h q q\"],[\".h w r\"],[\".h w .t\"],[\".h w l\"],[\"_h l l\"],[\"` d w\"],[\"` .t w\"],[\"` f w\"],[\"` w d\"],[\"` w .d\"],[\"` w n\"],[\"` y ^s\"],[\".g l w\"],[\".g y r\"],[\"q s w\"],[\"q w m\"],[\"q w y\"],[\"k r y\"],[\"k f '\"],[\"m d d\"],[\"m d y\"],[\"m s w\"],[\"m ^s y\"],[\"m l '\"],[\"h d y\"],[\"h w y\"],[\"w t r\"],[\"w _t b\"],[\"w _t q\"],[\"w r y\"],[\"w z r\"],[\"w .s l\"],[\"w .t '\"],[\"w ` d\"],[\"w f d\"],[\"w f y\"],[\"w k l\"],[\"w l s\"],[\"w l y\"],[\"y s r\"],[\"b d l\"],[\"b r .h\"],[\"b r z\"],[\"b r k\"],[\"b .d `\"],[\"b ` d\"],[\"b .g .d\"],[\"b k r\"],[\"b l .g\"],[\"b h t\"],[\"^g b r\"],[\"^g .h f\"],[\"^g l d\"],[\"^g l s\"],[\"^g m `\"],[\"^g m l\"],[\"^g h d\"],[\".h ^g f\"],[\".h d _t\"],[\".h r m\"],[\".h s n\"],[\".h .d r\"],[\".h f .z\"],[\".h k m\"],[\"_h b r\"],[\"_h d `\"],[\"_h .t r\"],[\"_h f t\"],[\"_h l .s\"],[\"_h l f\"],[\"_h m r\"],[\"` ^g l\"],[\"` r .d\"],[\"` s r\"],[\"` .s r\"],[\"` q b\"],[\"` q r\"],[\"` m l\"],[\".g r s\"],[\".g f l\"],[\".g l .t\"],[\"f .d l\"],[\"f h m\"],[\"q b l\"],[\"q r .d\"],[\"q r f\"],[\"q r n\"],[\"q s m\"],[\"q .t `\"],[\"q m r\"],[\"k b r\"],[\"k t b\"],[\"k _t r\"],[\"k r m\"],[\"k s d\"],[\"k f l\"],[\"k n f\"],[\"m .h k\"],[\"m l q\"],[\"m h r\"],[\"h t r\"],[\"h ^g r\"],[\"h ^g m\"],[\"h z l\"],[\"t ' m\"],[\"d r y\"],[\"d q q\"],[\"d n w\"],[\"d w r\"],[\"d w l\"],[\"d w m\"],[\"d y n\"],[\"r ' y\"],[\"r b w\"],[\"r .d y\"],[\"r ` y\"],[\"r w .h\"],[\"r w d\"],[\"z w l\"],[\"s ' l\"],[\"s r r\"],[\"s q y\"],[\"s m w\"],[\"s w m\"],[\"s y r\"],[\"^s w r\"],[\"^s w l\"],[\"^s y `\"],[\".s d y\"],[\".s f w\"],[\".t w `\"],[\".t w l\"],[\".t y b\"],[\"l ' m\"],[\"l f w\"],[\"l q y\"],[\"l h w\"],[\"l y n\"],[\"n ' y\"],[\"n ^g w\"],[\"n w '\"],[\"n w b\"],[\"t b `\"],[\"t r b\"],[\"d ^g n\"],[\"d _h l\"],[\"d r ^g\"],[\"d r k\"],[\"d h m\"],[\"d h n\"],[\"_d ` n\"],[\"_d k r\"],[\"r b .h\"],[\"r ^g `\"],[\"r d f\"],[\"r s l\"],[\"r f q\"],[\"r q .s\"],[\"r k n\"],[\"r h q\"],[\"r h n\"],[\"s b q\"],[\"s r `\"],[\"s ` d\"],[\"s ` r\"],[\"s ` f\"],[\"s f r\"],[\"s k n\"],[\"s l m\"],[\"s n d\"],[\"s h l\"],[\"s h m\"],[\"^s b h\"],[\"^s ^g r\"],[\"^s .h n\"],[\"^s r b\"],[\"^s r f\"],[\"^s r k\"],[\"^s .g l\"],[\"^s k l\"],[\"^s h d\"],[\"^s h r\"],[\".s .h b\"],[\".s d r\"],[\".s l .h\"],[\".d ^g `\"],[\".d r b\"],[\".t b q\"],[\".t l `\"],[\".z h r\"],[\"l b s\"],[\"l .h q\"],[\"l z m\"],[\"l .s q\"],[\"l .g z\"],[\"l m .h\"],[\"n b _d\"],[\"n ^g d\"],[\"n ^g z\"],[\"n z l\"],[\"n ^s d\"],[\"n .s b\"],[\"n .s f\"],[\"n f q\"],[\"n q d\"],[\"n q .s\"],[\"n q .d\"],[\"n k .h\"],[\"n k r\"],[\"n h .d\"]]"
      ]
     },
     "metadata": {},
     "output_type": "display_data"
    }
   ],
   "source": [
    "import Data.List hiding (lookup)\n",
    "let t = [ (i, []::[Int]) | (i, _) <- lookup III ]\n",
    "    f = [ (i, []::[Int]) | (i, _) <- lookup IV ]\n",
    "    in map (map (unwraps root) . emanate) $ lookup (t `intersect` f) "
   ]
  },
  {
   "cell_type": "code",
   "execution_count": 32,
   "metadata": {
    "collapsed": false
   },
   "outputs": [
    {
     "data": {
      "text/plain": [
       "(96,[5,9])\t(96,5)\tV---------\t'AtY\t\"' t y\"\tFACY\t[\"give\",\"offer\"]\t[III]\n",
       "          \t(96,9)\tV---------\t'AtY\t\"' t y\"\tHACY\t[\"bring\",\"give\"]\t[IV]\n",
       "\n",
       "(266,[10,14])\t(266,10)\tV---------\t'AsY\t\"' s y\"\tFACY\t[\"console\",\"comfort\"]\t[III]\n",
       "             \t(266,14)\tV---------\t'AsY\t\"' s y\"\tHACY\t[\"grieve\",\"afflict\",\"be aggrieved\"]\t[IV]\n",
       "\n",
       "(266,[12,37])\t(266,12)\tA---------\tmu'AsI\t\"' s y\"\tMuFACI\t[\"console\",\"comfort\"]\t[III]\n",
       "             \t(266,37)\tA---------\tmu'AsI\t\"' s y\"\tMuFACI\t[\"comforting\",\"consoling\"]\t[III]\n",
       "\n",
       "(266,[12,16,37,38])\t(266,12)\tA---------\tmu'AsI\t\"' s y\"\tMuFACI\t[\"console\",\"comfort\"]\t[III]\n",
       "                   \t(266,16)\tA---------\tmu'sI\t\"' s y\"\tMuFCI\t[\"grieve\",\"afflict\",\"be aggrieved\"]\t[IV]\n",
       "                   \t(266,37)\tA---------\tmu'AsI\t\"' s y\"\tMuFACI\t[\"comforting\",\"consoling\"]\t[III]\n",
       "                   \t(266,38)\tA---------\tmu'sI\t\"' s y\"\tMuFCI\t[\"saddening\",\"discomforting\"]\t[IV]\n",
       "\n",
       "(400,[10,14])\t(400,10)\tV---------\t'Akal\t\"' k l\"\tFACaL\t[\"eat\",\"dine\"]\t[III]\n",
       "             \t(400,14)\tV---------\t'Akal\t\"' k l\"\tHACaL\t[\"feed\"]\t[IV]\n",
       "\n",
       "(419,[10,14,41])\t(419,10)\tV---------\t'Alaf\t\"' l f\"\tFACaL\t[\"befriend\",\"adapt to\"]\t[III]\n",
       "                \t(419,14)\tV---------\t'Alaf\t\"' l f\"\tHACaL\t[\"adapt\",\"familiarize\"]\t[IV]\n",
       "                \t(419,41)\tA---------\t'Alaf\t\"' l f\"\tHACaL\t[\"friendlier\",\"friendliest\",\"more / most accustomed\"]\t[]\n",
       "\n",
       "(484,[10,14])\t(484,10)\tV---------\t'Anas\t\"' n s\"\tFACaL\t[\"be friendly\",\"entertain\"]\t[III]\n",
       "             \t(484,14)\tV---------\t'Anas\t\"' n s\"\tHACaL\t[\"entertain\",\"perceive\"]\t[IV]"
      ]
     },
     "metadata": {},
     "output_type": "display_data"
    }
   ],
   "source": [
    "vcat $ map (pretty . lookup) $ words \"'AtY 'AsY mu'AsI mu'sI 'Akal 'Alaf 'Anas\""
   ]
  }
 ],
 "metadata": {
  "kernelspec": {
   "display_name": "Haskell",
   "language": "haskell",
   "name": "haskell"
  },
  "language_info": {
   "codemirror_mode": "ihaskell",
   "file_extension": ".hs",
   "name": "haskell",
   "version": "7.10.3"
  }
 },
 "nbformat": 4,
 "nbformat_minor": 0
}
