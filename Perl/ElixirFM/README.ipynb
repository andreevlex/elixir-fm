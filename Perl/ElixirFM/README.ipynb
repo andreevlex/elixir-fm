{
 "cells": [
  {
   "cell_type": "markdown",
   "metadata": {},
   "source": [
    "<img src=\"../../elixir-fm.png\" align=\"right\" width=\"10%\">\n",
    "\n",
    "# ElixirFM / Perl\n",
    "\n",
    "[Describe](#Describe)\n",
    "[Retrieve](#Retrieve)\n",
    "[Compose](#Compose)\n",
    "[Resolve](#Resolve)\n",
    "[Encode](#Encode)\n",
    "\n",
    "- [ElixirFM / Haskell](http://github.com/otakar-smrz/elixir-fm/tree/master/Haskell/ElixirFM/README.ipynb)\n",
    "- [ElixirFM / Python](http://github.com/otakar-smrz/elixir-fm/tree/master/Python/ElixirFM/README.ipynb)\n",
    "- [ElixirFM / Compiled Executable](http://github.com/otakar-smrz/elixir-fm/tree/master/README.ipynb)"
   ]
  },
  {
   "cell_type": "markdown",
   "metadata": {},
   "source": [
    "You can enjoy the [Perl interface to ElixirFM](http://github.com/otakar-smrz/elixir-fm/tree/master/Perl/ElixirFM/lib/ElixirFM.pm#L171) from within [IPerl](http://github.com/EntropyOrg/p5-Devel-IPerl) in [Jupyter Notebook](http://jupyter.org).\n",
    "\n",
    "    perl Build.PL\n",
    "    ./Build\n",
    "    ./Build install\n",
    "    jupyter notebook README.ipynb\n",
    "\n",
    "This notebook focuses on using ElixirFM from within Perl, assuming the `elixir` executable is installed. You might like to refer to its [documentation](http://github.com/otakar-smrz/elixir-fm/tree/master/README.ipynb)."
   ]
  },
  {
   "cell_type": "code",
   "execution_count": 1,
   "metadata": {
    "collapsed": false
   },
   "outputs": [
    {
     "name": "stdout",
     "output_type": "stream",
     "text": [
      "~/.cabal/bin/elixir\r\n"
     ]
    }
   ],
   "source": [
    "! which elixir                                               | perl -pe 's{'$HOME'}{~}'  # '~/' is your home directory"
   ]
  },
  {
   "cell_type": "code",
   "execution_count": 2,
   "metadata": {
    "collapsed": false
   },
   "outputs": [
    {
     "name": "stdout",
     "output_type": "stream",
     "text": [
      "~/.cabal/bin\r\n"
     ]
    }
   ],
   "source": [
    "! echo $PATH | tr ':' \"\\n\" | grep $(dirname $(which elixir)) | perl -pe 's{'$HOME'}{~}'  # '~/' is your home directory"
   ]
  },
  {
   "cell_type": "code",
   "execution_count": 3,
   "metadata": {
    "collapsed": false
   },
   "outputs": [
    {
     "name": "stdout",
     "output_type": "stream",
     "text": [
      "ElixirFM (C) 2017-2005 Otakar Smrz and Viktor Bielicky\n",
      "             2004 Markus Forsberg, 2002 Tim Buckwalter\n",
      "GNU General Public License http://www.gnu.org/licenses/\n",
      "\n",
      "ElixirFM 1.2.2 June 2017\n"
     ]
    }
   ],
   "source": [
    "%%perl\n",
    "use ElixirFM::Exec;\n",
    "print ElixirFM::Exec::elixir 'version';"
   ]
  },
  {
   "cell_type": "code",
   "execution_count": 4,
   "metadata": {
    "collapsed": false
   },
   "outputs": [
    {
     "name": "stdout",
     "output_type": "stream",
     "text": [
      "\"one\"\t(21,[1])\t(21,1)\tQI--------\t'a.had\t\"' .h d\"\tFaCaL\t[\"one\"]\t[]\n",
      "     \t        \t      \t------F---\t'i.hdY\t\"' .h d\"\tFiCLY\n",
      "     \t(22,[1])\t(22,1)\tQI--------\twA.hid\t\"w .h d\"\tFACiL\t[\"one\"]\t[]\n",
      "     \t        \t      \t------F---\twA.hidaT\t\"w .h d\"\tFACiL |< aT\n",
      "     \t(118,[6,7])\t(118,6)\tN---------\t'a.had\t\"' .h d\"\tFaCaL\t[\"one\",\"someone\"]\t[I]\n",
      "     \t           \t       \t-------P--\t'A.hAd\t\"' .h d\"\tHACAL\n",
      "     \t           \t       \t------F---\t'i.hdY\t\"' .h d\"\tFiCLY\n",
      "     \t           \t(118,7)\tN---------\t'i.hdY\t\"' .h d\"\tFiCLY\t[\"one\",\"someone\"]\t[]\n",
      "     \t           \t       \t-------P--\t'i.hdayAt\t\"' .h d\"\tFiCLY |< At\n",
      "     \t(1650,[32,33,34])\t(1650,32)\tA---------\twA.hid\t\"w .h d\"\tFACiL\t[\"one\",\"single\",\"only\"]\t[I]\n",
      "     \t                 \t         \t-------P--\twu.hdAn\t\"w .h d\"\tFuCLAn\n",
      "     \t                 \t(1650,33)\tN---------\twA.hid\t\"w .h d\"\tFACiL\t[\"one\",\"someone\"]\t[I]\n",
      "     \t                 \t         \t-------P--\twu.hdAn\t\"w .h d\"\tFuCLAn\n",
      "     \t                 \t         \t------F---\twA.hidaT\t\"w .h d\"\tFACiL |< aT\n",
      "     \t                 \t(1650,34)\tN---------\twA.hidaT\t\"w .h d\"\tFACiL |< aT\t[\"one\",\"someone\"]\t[I]\n",
      "     \t                 \t         \t-------P--\twA.hidAt\t\"w .h d\"\tFACiL |< At\n",
      "\n",
      "'a.had\t(21,[1])\t(21,1)\tQI--------\t'a.had\t\"' .h d\"\tFaCaL\t[\"one\"]\t[]\n",
      "      \t        \t      \t------F---\t'i.hdY\t\"' .h d\"\tFiCLY\n",
      "      \t(118,[6,8,9])\t(118,6)\tN---------\t'a.had\t\"' .h d\"\tFaCaL\t[\"one\",\"someone\"]\t[I]\n",
      "      \t             \t       \t-------P--\t'A.hAd\t\"' .h d\"\tHACAL\n",
      "      \t             \t       \t------F---\t'i.hdY\t\"' .h d\"\tFiCLY\n",
      "      \t             \t(118,8)\tN---------\t'a.had\t\"' .h d\"\tFaCaL\t[\"unit\"]\t[I]\n",
      "      \t             \t       \t-------P--\t'A.hAd\t\"' .h d\"\tHACAL\n",
      "      \t             \t(118,9)\tN---------\t'a.had\t\"' .h d\"\tFaCaL\t[\"Sunday\"]\t[I]\n",
      "\n"
     ]
    }
   ],
   "source": [
    "%%perl\n",
    "use ElixirFM::Exec;\n",
    "print ElixirFM::Exec::lookup ['tex'], '\"one\"', \"'a.had\";"
   ]
  },
  {
   "cell_type": "markdown",
   "metadata": {},
   "source": [
    "# Describe"
   ]
  },
  {
   "cell_type": "code",
   "execution_count": 5,
   "metadata": {
    "collapsed": false
   },
   "outputs": [
    {
     "name": "stdout",
     "output_type": "stream",
     "text": [
      "demonstrative pronoun, second person, masculine gender, singular number, accusative case"
     ]
    }
   ],
   "source": [
    "%%perl\n",
    "use ElixirFM;\n",
    "print ElixirFM::describe 'SD---2MS4-';"
   ]
  },
  {
   "cell_type": "code",
   "execution_count": 6,
   "metadata": {
    "collapsed": false
   },
   "outputs": [
    {
     "name": "stdout",
     "output_type": "stream",
     "text": [
      "pronoun, first second third person, singular dual plural number, nominative genitive accusative case"
     ]
    }
   ],
   "source": [
    "%%perl\n",
    "use ElixirFM;\n",
    "print ElixirFM::describe 'S----[123]-[SDP][124]-';"
   ]
  },
  {
   "cell_type": "code",
   "execution_count": 7,
   "metadata": {
    "collapsed": false
   },
   "outputs": [
    {
     "name": "stdout",
     "output_type": "stream",
     "text": [
      "pronoun, first second third person, singular dual plural, nominative genitive accusative"
     ]
    }
   ],
   "source": [
    "%%perl\n",
    "use ElixirFM;\n",
    "print ElixirFM::describe 'S----[123]-[SDP][124]-', 'terse';"
   ]
  },
  {
   "cell_type": "code",
   "execution_count": 8,
   "metadata": {
    "collapsed": false
   },
   "outputs": [
    {
     "name": "stdout",
     "output_type": "stream",
     "text": [
      "perfective imperfective verb, active voice, third person, feminine masculine gender, singular number\n",
      "noun adjective, singular, nominative, indefinite\n"
     ]
    }
   ],
   "source": [
    "%%perl\n",
    "use ElixirFM;\n",
    "$\\ = \"\\n\";\n",
    "print ElixirFM::describe \"V[PI]-A-3[FM]S--\";\n",
    "print ElixirFM::describe \"[NA]------S1I\", 'terse';"
   ]
  },
  {
   "cell_type": "markdown",
   "metadata": {},
   "source": [
    "# Retrieve"
   ]
  },
  {
   "cell_type": "code",
   "execution_count": 9,
   "metadata": {
    "collapsed": false
   },
   "outputs": [
    {
     "name": "stdout",
     "output_type": "stream",
     "text": [
      "VP-A-2F---\n",
      "V--A---[SP]--\t[NA]------S1I\tS---------\tV[PI]-A------\n"
     ]
    }
   ],
   "source": [
    "%%perl\n",
    "use ElixirFM;\n",
    "$\\ = \"\\n\";\n",
    "print ElixirFM::retrieve \"perfect verb second person feminine active\";\n",
    "$, = \"\\t\";\n",
    "print ElixirFM::retrieve \"(verb act sg pl) (noun adj sg nom indef) S V[PI]-A\";"
   ]
  },
  {
   "cell_type": "code",
   "execution_count": 10,
   "metadata": {
    "collapsed": false
   },
   "outputs": [
    {
     "name": "stdout",
     "output_type": "stream",
     "text": [
      "S----[123]-[DSPD][124]-\t-------D-D"
     ]
    }
   ],
   "source": [
    "%%perl\n",
    "use ElixirFM;\n",
    "$, = \"\\t\";\n",
    "print ElixirFM::retrieve('dual sing fst snd trd pl nom gen pron acc dual () dual def');"
   ]
  },
  {
   "cell_type": "markdown",
   "metadata": {},
   "source": [
    "# Compose"
   ]
  },
  {
   "cell_type": "code",
   "execution_count": 11,
   "metadata": {
    "collapsed": false
   },
   "outputs": [
    {
     "name": "stdout",
     "output_type": "stream",
     "text": [
      "sub Nothing () {\r\n",
      "\r\n",
      "    return '';\r\n",
      "}\r\n",
      "\r\n",
      "sub Just ($) {\r\n",
      "\r\n",
      "    return $_[0];\r\n",
      "}\r\n",
      "\r\n",
      "\r\n",
      "local $/ = \"\";\r\n",
      "\r\n",
      "while (my $line = <>) {\r\n",
      "\r\n",
      "    chomp $line;\r\n",
      "\r\n",
      "    if ($line =~ /^\\[/ and $line =~ /\\]$/) {\r\n",
      "\r\n",
      "        $line =~ s/\\$/\\\\\\$/g;\r\n",
      "\r\n",
      "        my $data = eval $line;\r\n"
     ]
    }
   ],
   "source": [
    "! grep Nothing -A 21 $(which elixir-compose.pl)"
   ]
  },
  {
   "cell_type": "code",
   "execution_count": 12,
   "metadata": {
    "collapsed": false
   },
   "outputs": [
    {
     "name": "stdout",
     "output_type": "stream",
     "text": [
      "[[\"`a^sar\"\n",
      " ,\"` ^s r\"\n",
      " ,\"FaCaL\"\n",
      " ,[\"- teen\"]\n",
      " ,\"Num [] [FaCL |< aT]\"\n",
      " ,(12,3)]\n",
      ",(\"E$r\",[([Nothing],[(\"FaCaL\",[(Nothing,Just \"\\\"a\\\"\",\"QY----M---\")])])])\n",
      ",(\"E$rp\",[([Nothing],[(\"FaCL |< aT\",[(Nothing,Just \"\\\"a\\\"\",\"QY----F---\")])])])]\n",
      "\n",
      "[[\"i_tnAn\"\n",
      " ,\"_t n y\"\n",
      " ,\"IFC |< An\"\n",
      " ,[\"two\"]\n",
      " ,\"Num [] [IFC |< aT |< An]\"\n",
      " ,(20,1)]\n",
      ",(\"AlAvnAn\",[([Nothing],[(\"IFC\",[(Just \"al\",Just \"\\\"Ani\\\"\",\"QU----M-1D\")])])])\n",
      ",(\"AlAvntAn\",[([Nothing],[(\"IFC |< aT\",[(Just \"al\",Just \"\\\"Ani\\\"\",\"QU----F-1D\")])])])\n",
      ",(\"AlAvntyn\",[([Nothing],[(\"IFC |< aT\",[(Just \"al\",Just \"\\\"ayni\\\"\",\"QU----F-2D\"),(Just \"al\",Just \"\\\"ayni\\\"\",\"QU----F-4D\")])])])\n",
      ",(\"AlAvnyn\",[([Nothing],[(\"IFC\",[(Just \"al\",Just \"\\\"ayni\\\"\",\"QU----M-2D\"),(Just \"al\",Just \"\\\"ayni\\\"\",\"QU----M-4D\")])])])\n",
      ",(\"AvnA\",[([Nothing],[(\"IFC\",[(Nothing,Just \"\\\"A\\\"\",\"QU----M-1R\")])])])\n",
      ",(\"AvnAn\",[([Nothing],[(\"IFC\",[(Nothing,Just \"\\\"Ani\\\"\",\"QU----M-1I\")])])])\n",
      ",(\"AvntA\",[([Nothing],[(\"IFC |< aT\",[(Nothing,Just \"\\\"A\\\"\",\"QU----F-1R\")])])])\n",
      ",(\"AvntAn\",[([Nothing],[(\"IFC |< aT\",[(Nothing,Just \"\\\"Ani\\\"\",\"QU----F-1I\")])])])\n",
      ",(\"Avnty\",[([Nothing],[(\"IFC |< aT\",[(Nothing,Just \"\\\"ay\\\"\",\"QU----F-2R\"),(Nothing,Just \"\\\"ay\\\"\",\"QU----F-4R\")])])])\n",
      ",(\"Avntyn\",[([Nothing],[(\"IFC |< aT\",[(Nothing,Just \"\\\"ayni\\\"\",\"QU----F-2I\"),(Nothing,Just \"\\\"ayni\\\"\",\"QU----F-4I\")])])])\n",
      ",(\"Avny\",[([Nothing],[(\"IFC\",[(Nothing,Just \"\\\"ay\\\"\",\"QU----M-2R\"),(Nothing,Just \"\\\"ay\\\"\",\"QU----M-4R\")])])])\n",
      ",(\"Avnyn\",[([Nothing],[(\"IFC\",[(Nothing,Just \"\\\"ayni\\\"\",\"QU----M-2I\"),(Nothing,Just \"\\\"ayni\\\"\",\"QU----M-4I\")])])])]\n",
      "\n",
      "[[\"'a.had\"\n",
      " ,\"' .h d\"\n",
      " ,\"FaCaL\"\n",
      " ,[\"one\"]\n",
      " ,\"Num [] [FiCLY]\"\n",
      " ,(21,1)]\n",
      ",(\"AlIHdY\",[([Nothing],[(\"FiCLY\",[(Just \"al\",Just \"\\\"u\\\"\",\"QI----F-1D\"),(Just \"al\",Just \"\\\"i\\\"\",\"QI----F-2D\"),(Just \"al\",Just \"\\\"a\\\"\",\"QI----F-4D\")])])])\n",
      ",(\"AlOHd\",[([Nothing],[(\"FaCaL\",[(Just \"al\",Just \"\\\"u\\\"\",\"QI----M-1D\"),(Just \"al\",Just \"\\\"i\\\"\",\"QI----M-2D\"),(Just \"al\",Just \"\\\"a\\\"\",\"QI----M-4D\")])])])\n",
      ",(\"IHdY\",[([Nothing],[(\"FiCLY\",[(Nothing,Just \"\\\"u\\\"\",\"QI----F-1I\"),(Nothing,Just \"\\\"a\\\"\",\"QI----F-2I\"),(Nothing,Just \"\\\"a\\\"\",\"QI----F-4I\"),(Nothing,Just \"\\\"u\\\"\",\"QI----F-1R\"),(Nothing,Just \"\\\"i\\\"\",\"QI----F-2R\"),(Nothing,Just \"\\\"a\\\"\",\"QI----F-4R\")])])])\n",
      ",(\"OHd\",[([Nothing],[(\"FaCaL\",[(Nothing,Just \"\\\"uN\\\"\",\"QI----M-1I\"),(Nothing,Just \"\\\"iN\\\"\",\"QI----M-2I\"),(Nothing,Just \"\\\"u\\\"\",\"QI----M-1R\"),(Nothing,Just \"\\\"i\\\"\",\"QI----M-2R\"),(Nothing,Just \"\\\"a\\\"\",\"QI----M-4R\")])])])\n",
      ",(\"OHdA\",[([Nothing],[(\"FaCaL\",[(Nothing,Just \"\\\"aN\\\"\",\"QI----M-4I\")])])])]\n",
      "\n",
      "[[\"wA.hid\"\n",
      " ,\"w .h d\"\n",
      " ,\"FACiL\"\n",
      " ,[\"one\"]\n",
      " ,\"Num [] [FACiL |< aT]\"\n",
      " ,(22,1)]\n",
      ",(\"AlwAHd\",[([Nothing],[(\"FACiL\",[(Just \"al\",Just \"\\\"u\\\"\",\"QI----M-1D\"),(Just \"al\",Just \"\\\"i\\\"\",\"QI----M-2D\"),(Just \"al\",Just \"\\\"a\\\"\",\"QI----M-4D\")])])])\n",
      ",(\"AlwAHdp\",[([Nothing],[(\"FACiL |< aT\",[(Just \"al\",Just \"\\\"u\\\"\",\"QI----F-1D\"),(Just \"al\",Just \"\\\"i\\\"\",\"QI----F-2D\"),(Just \"al\",Just \"\\\"a\\\"\",\"QI----F-4D\")])])])\n",
      ",(\"wAHd\",[([Nothing],[(\"FACiL\",[(Nothing,Just \"\\\"uN\\\"\",\"QI----M-1I\"),(Nothing,Just \"\\\"iN\\\"\",\"QI----M-2I\"),(Nothing,Just \"\\\"u\\\"\",\"QI----M-1R\"),(Nothing,Just \"\\\"i\\\"\",\"QI----M-2R\"),(Nothing,Just \"\\\"a\\\"\",\"QI----M-4R\")])])])\n",
      ",(\"wAHdA\",[([Nothing],[(\"FACiL\",[(Nothing,Just \"\\\"aN\\\"\",\"QI----M-4I\")])])])\n",
      ",(\"wAHdp\",[([Nothing],[(\"FACiL |< aT\",[(Nothing,Just \"\\\"uN\\\"\",\"QI----F-1I\"),(Nothing,Just \"\\\"iN\\\"\",\"QI----F-2I\"),(Nothing,Just \"\\\"aN\\\"\",\"QI----F-4I\"),(Nothing,Just \"\\\"u\\\"\",\"QI----F-1R\"),(Nothing,Just \"\\\"i\\\"\",\"QI----F-2R\"),(Nothing,Just \"\\\"a\\\"\",\"QI----F-4R\")])])])]\n",
      "\n"
     ]
    }
   ],
   "source": [
    "%%sh\n",
    "elixir compose Q[IUY]-------[DIR]"
   ]
  },
  {
   "cell_type": "code",
   "execution_count": 13,
   "metadata": {
    "collapsed": false
   },
   "outputs": [
    {
     "name": "stdout",
     "output_type": "stream",
     "text": [
      "\n",
      "package ElixirFM::Data::Compose;\n",
      "\n",
      "use Data::Dumper;\n",
      "\n",
      "$Data::Dumper::Indent = 0;\n",
      "$Data::Dumper::Terse = 1;\n",
      "\n",
      "use strict;\n",
      "\n"
     ]
    }
   ],
   "source": [
    "%%sh\n",
    "elixir compose | elixir-compose.pl | head"
   ]
  },
  {
   "cell_type": "code",
   "execution_count": 14,
   "metadata": {
    "collapsed": false
   },
   "outputs": [
    {
     "name": "stdout",
     "output_type": "stream",
     "text": [
      "\r\n",
      "    my $dat = eval $one;\r\n",
      "\r\n",
      "    for (my $i = 0; $i < @{$dat}; $i += 3) {\r\n",
      "\r\n",
      "        push @{$list{'tags'}[$hash{'tags'}{$one}]}, [ @{$dat}[$i + 2, $i, $i + 1] ];\r\n",
      "    }\r\n",
      "}\r\n",
      "\r\n",
      "for (my $i = 0; $i < @{$list{'tags'}}; $i++) {\r\n"
     ]
    }
   ],
   "source": [
    "! head -n 233 $(which elixir-compose.pl) | tail"
   ]
  },
  {
   "cell_type": "markdown",
   "metadata": {},
   "source": [
    "# Resolve"
   ]
  },
  {
   "cell_type": "code",
   "execution_count": 15,
   "metadata": {
    "collapsed": false
   },
   "outputs": [
    {
     "name": "stdout",
     "output_type": "stream",
     "text": [
      "use ElixirFM::Resolve;\r\n",
      "\r\n",
      "use strict;\r\n",
      "\r\n",
      "my $elixir = new ElixirFM::Resolve;\r\n",
      "\r\n",
      "\r\n",
      "warn \"ElixirFM is now expecting your input!\\n\\n\";\r\n",
      "\r\n",
      "\r\n",
      "while (my $line = <>) {\r\n",
      "\r\n",
      "    my @word = split ' ', undiacritize($line);\r\n",
      "\r\n",
      "    print $elixir->pretty($elixir->resolve($_)), \"\\n\\n\" foreach @word;\r\n",
      "}\r\n",
      "\r\n",
      "\r\n",
      "warn \"Quitting ...\\n\";\r\n",
      "\r\n",
      "\r\n",
      "sub undiacritize {\r\n",
      "\r\n",
      "    my $text = $_[0];\r\n",
      "\r\n",
      "    $text =~ tr[aiuo~`FNK][]d;\r\n",
      "\r\n",
      "    return $text;\r\n",
      "}\r\n"
     ]
    }
   ],
   "source": [
    "! grep Resolve -A 24 $(which elixir-resolve.pl)"
   ]
  },
  {
   "cell_type": "code",
   "execution_count": 16,
   "metadata": {
    "collapsed": false
   },
   "outputs": [
    {
     "name": "stdout",
     "output_type": "stream",
     "text": [
      "\n",
      "`a^saraT\t` ^s r\tFaCaL |< aT\tNum [] [FaCL]\t(12,1)\n",
      "\t['ten']\n",
      "\tQX----F-1I\tFaCL |<< \"uN\"\t`a^sruN\tʿašrun\n",
      "\tQX----F-2I\tFaCL |<< \"iN\"\t`a^sriN\tʿašrin\n",
      "\tQX----F-1R\tFaCL |<< \"u\"\t`a^sru\tʿašru\n",
      "\tQX----F-2R\tFaCL |<< \"i\"\t`a^sri\tʿašri\n",
      "\tQX----F-4R\tFaCL |<< \"a\"\t`a^sra\tʿašra\n",
      "\tQX----F-1A\tFaCL |<< \"u\"\t`a^sru\tʿašru\n",
      "\tQX----F-2A\tFaCL |<< \"i\"\t`a^sri\tʿašri\n",
      "\tQX----F-4A\tFaCL |<< \"a\"\t`a^sra\tʿašra\n",
      "\n",
      "`a^sar\t` ^s r\tFaCaL\tNum [] [FaCL |< aT]\t(12,3)\n",
      "\t['- teen']\n",
      "\tQY----M---\tFaCaL |<< \"a\"\t`a^sara\tʿašara\n",
      "\n",
      "\n",
      "\n",
      "'a.had\t' .h d\tFaCaL\tNum [] [FiCLY]\t(21,1)\n",
      "\t['one']\n",
      "\tQI----M-1I\tFaCaL |<< \"uN\"\t'a.haduN\tʾaḥadun\n",
      "\tQI----M-2I\tFaCaL |<< \"iN\"\t'a.hadiN\tʾaḥadin\n",
      "\tQI----M-1R\tFaCaL |<< \"u\"\t'a.hadu\tʾaḥadu\n",
      "\tQI----M-2R\tFaCaL |<< \"i\"\t'a.hadi\tʾaḥadi\n",
      "\tQI----M-4R\tFaCaL |<< \"a\"\t'a.hada\tʾaḥada\n",
      "\tQI----M-1A\tFaCaL |<< \"u\"\t'a.hadu\tʾaḥadu\n",
      "\tQI----M-2A\tFaCaL |<< \"i\"\t'a.hadi\tʾaḥadi\n",
      "\tQI----M-4A\tFaCaL |<< \"a\"\t'a.hada\tʾaḥada\n",
      "\tQI----M-1L\tFaCaL |<< \"u\"\t'a.hadu\tʾaḥadu\n",
      "\tQI----M-2L\tFaCaL |<< \"i\"\t'a.hadi\tʾaḥadi\n",
      "\tQI----M-4L\tFaCaL |<< \"a\"\t'a.hada\tʾaḥada\n",
      "\n",
      "\n",
      "\n",
      "ladY\tl d y\t\"ladY\"\tPrep\t(29,1)\n",
      "\t['with','by']\n",
      "\tP---------\t\"ladY\"\tladY\tladā\n",
      "\tP---------\t\"laday\"\tladay\tladay\n",
      "\n",
      ":\n",
      "\n",
      "huwa\t\t\"huwa\"\tPron\t(26,1)\n",
      "\t['he','she','it']\n",
      "\tSP---3MP2-\t\"him\"\thim\thim\n",
      "\tSP---3MP2-\t\"hum\"\thum\thum\n",
      "\n",
      "\n",
      "\n",
      "bi\tbi\t_____\tPrep\t(3423,1)\n",
      "\t['by','with']\n",
      "\tP---------\t_____\tbi\tbi\n",
      "\n",
      ":\n",
      "\n",
      "mi'aT\tm ' y\tFiC |< aT\tNum [FiC |< Un,FiC |< At] []\t(10,1)\n",
      "\t['hundred']\n",
      "\tQC-----S2D\tal >| FiC |< aT |<< \"i\"\tal-mi'aTi\tal-miʾati\n",
      "\n",
      "\n",
      "\n",
      "min\tmin\t_____\tPrep\t(5694,1)\n",
      "\t['from']\n",
      "\tP---------\t_____\tmin\tmin\n",
      "\n",
      ":\n",
      "\n",
      "huwa\t\t\"huwa\"\tPron\t(26,1)\n",
      "\t['he','she','it']\n",
      "\tSP---2MS2-\t\"ka\"\tka\tka\n",
      "\tSP---2FS2-\t\"ki\"\tki\tki\n",
      "\n",
      "\n"
     ]
    },
    {
     "name": "stderr",
     "output_type": "stream",
     "text": [
      "Initializing ...\n",
      "ElixirFM is now expecting your input!\n",
      "\n",
      "Quitting ...\n"
     ]
    }
   ],
   "source": [
    "%%sh\n",
    "encode buckwalter | elixir-resolve.pl\n",
    "\n",
    "E$r\n",
    "أحد\n",
    "ldyhm\n",
    "bAlm}p\n",
    "mnk"
   ]
  },
  {
   "cell_type": "code",
   "execution_count": 17,
   "metadata": {
    "collapsed": false
   },
   "outputs": [
    {
     "name": "stdout",
     "output_type": "stream",
     "text": [
      ":::: bAlm}p\n",
      " \n",
      " ::: <bi> <al-mi'aTi>\n",
      "  \n",
      "  :: <bi>\n",
      "   : (3423,1)  \t[\"by\",\"with\"]\n",
      "               \tPrep\t[]\n",
      "               \tbi\t\"bi\"\t_____\n",
      "     P---------\tbi\t\"bi\"\t_____\n",
      "  \n",
      "  :: <al-mi'aTi>\n",
      "   : (10,1)    \t[\"hundred\"]\n",
      "               \tNum [FiC |< Un,FiC |< At] []\t[]\n",
      "               \tmi'aT\t\"m ' y\"\tFiC |< aT\n",
      "     QC-----S2D\tal-mi'aTi\t\"m ' y\"\tal >| FiC |< aT |<< \"i\"\n",
      "\n",
      "\n",
      ":::: mnk\n",
      " \n",
      " ::: <manni min> <ka ki>\n",
      "  \n",
      "  :: <manni min>\n",
      "   : (1497,5)  \t[\"arouse\",\"raise hopes\",\"be heartened\"]\n",
      "               \tVerb [] [] []\t[II]\n",
      "               \tmannY\t\"m n y\"\tFaCCY\n",
      "     VCJ---MS--\tmanni\t\"m n y\"\t\"\" >>| FaCCI |<< \"\"\n",
      "   : (5694,1)  \t[\"from\"]\n",
      "               \tPrep\t[]\n",
      "               \tmin\t\"min\"\t_____\n",
      "     P---------\tmin\t\"min\"\t_____\n",
      "  \n",
      "  :: <ka ki>\n",
      "   : (26,1)    \t[\"he\",\"she\",\"it\"]\n",
      "               \tPron\t[]\n",
      "               \thuwa\t\"\"\t\"huwa\"\n",
      "     SP---2MS2-\tka\t\"\"\t\"ka\"\n",
      "     SP---2FS2-\tki\t\"\"\t\"ki\"\n",
      "     SP---2MS4-\tka\t\"\"\t\"ka\"\n",
      "     SP---2FS4-\tki\t\"\"\t\"ki\"\n",
      "\n",
      "\n",
      ":::: bAlm}p\n",
      " \n",
      " ::: <bi-al-mi'aTi>\n",
      "  \n",
      "  :: (3423,1)  \t[\"by\",\"with\"]\n",
      "               \tPrep\t[]\n",
      "               \tbi\t\"bi\"\t_____\n",
      "     (10,1)    \t[\"hundred\"]\n",
      "               \tNum [FiC |< Un,FiC |< At] []\t[]\n",
      "               \tmi'aT\t\"m ' y\"\tFiC |< aT\n",
      "   : <bi-al-mi'aTi>\n",
      "     P---------\tbi\t\"bi\"\t_____\n",
      "     QC-----S2D\tal-mi'aTi\t\"m ' y\"\tal >| FiC |< aT |<< \"i\"\n",
      "\n",
      "\n",
      ":::: mnk\n",
      " \n",
      " ::: <mannika> .. <minki>\n",
      "  \n",
      "  :: (1497,5)  \t[\"arouse\",\"raise hopes\",\"be heartened\"]\n",
      "               \tVerb [] [] []\t[II]\n",
      "               \tmannY\t\"m n y\"\tFaCCY\n",
      "     (26,1)    \t[\"he\",\"she\",\"it\"]\n",
      "               \tPron\t[]\n",
      "               \thuwa\t\"\"\t\"huwa\"\n",
      "   : <mannika>\n",
      "     VCJ---MS--\tmanni\t\"m n y\"\t\"\" >>| FaCCI |<< \"\"\n",
      "     SP---2MS4-\tka\t\"\"\t\"ka\"\n",
      "   : <manniki>\n",
      "     VCJ---MS--\tmanni\t\"m n y\"\t\"\" >>| FaCCI |<< \"\"\n",
      "     SP---2FS4-\tki\t\"\"\t\"ki\"\n",
      "  \n",
      "  :: (5694,1)  \t[\"from\"]\n",
      "               \tPrep\t[]\n",
      "               \tmin\t\"min\"\t_____\n",
      "     (26,1)    \t[\"he\",\"she\",\"it\"]\n",
      "               \tPron\t[]\n",
      "               \thuwa\t\"\"\t\"huwa\"\n",
      "   : <minka>\n",
      "     P---------\tmin\t\"min\"\t_____\n",
      "     SP---2MS2-\tka\t\"\"\t\"ka\"\n",
      "   : <minki>\n",
      "     P---------\tmin\t\"min\"\t_____\n",
      "     SP---2FS2-\tki\t\"\"\t\"ki\"\n",
      "\n",
      "\n",
      "bAlm}p\tbi-al-mi'aTi\tP---------\tbi\t_____\t\"bi\"\t_____\tbi\t(3423,1)\t[\"by\",\"with\"]\n",
      "      \t            \tQC-----S2D\tal-mi'aTi\tal >| FiC |< aT |<< \"i\"\t\"m ' y\"\tFiC |< aT\tmi'aT\t(10,1)\t[\"hundred\"]\n",
      "\n",
      "\n",
      "mnk\tmannika\tVCJ---MS--\tmanni\t\"\" >>| FaCCI |<< \"\"\t\"m n y\"\tFaCCY\tmannY\t(1497,5)\t[\"arouse\",\"raise hopes\",\"be heartened\"]\n",
      "   \t       \tSP---2MS4-\tka\t\"ka\"\t\"\"\t\"huwa\"\thuwa\t(26,1)\t[\"he\",\"she\",\"it\"]\n",
      "   \tmanniki\tVCJ---MS--\tmanni\t\"\" >>| FaCCI |<< \"\"\t\"m n y\"\tFaCCY\tmannY\t(1497,5)\t[\"arouse\",\"raise hopes\",\"be heartened\"]\n",
      "   \t       \tSP---2FS4-\tki\t\"ki\"\t\"\"\t\"huwa\"\thuwa\t(26,1)\t[\"he\",\"she\",\"it\"]\n",
      "   \tminka\tP---------\tmin\t_____\t\"min\"\t_____\tmin\t(5694,1)\t[\"from\"]\n",
      "   \t     \tSP---2MS2-\tka\t\"ka\"\t\"\"\t\"huwa\"\thuwa\t(26,1)\t[\"he\",\"she\",\"it\"]\n",
      "   \tminki\tP---------\tmin\t_____\t\"min\"\t_____\tmin\t(5694,1)\t[\"from\"]\n",
      "   \t     \tSP---2FS2-\tki\t\"ki\"\t\"\"\t\"huwa\"\thuwa\t(26,1)\t[\"he\",\"she\",\"it\"]\n",
      "\n",
      "\n"
     ]
    }
   ],
   "source": [
    "%%perl\n",
    "use ElixirFM::Exec;\n",
    "print ElixirFM::Exec::resolve ['tim', $_], \"bAlm}p\", \"mnk\" for '--trees', '--lists', '';"
   ]
  },
  {
   "cell_type": "markdown",
   "metadata": {},
   "source": [
    "# Encode"
   ]
  },
  {
   "cell_type": "code",
   "execution_count": 18,
   "metadata": {
    "collapsed": false
   },
   "outputs": [
    {
     "name": "stdout",
     "output_type": "stream",
     "text": [
      "\n",
      "QI--------   'a.had       \"' .h d\"     FaCaL        ʾaḥad        OaHad        OHd          أحد          أَحَد\n",
      "------F---   'i.hdY       \"' .h d\"     FiCLY        ʾiḥdā        IiHdaY       IHdY         إحدى         إِحدَى\n",
      "QI--------   wA.hid       \"w .h d\"     FACiL        wāḥid        waAHid       wAHd         واحد         وَاحِد\n",
      "------F---   wA.hidaT     \"w .h d\"     FACiL |< aT  wāḥidat      waAHidap     wAHdp        واحدة        وَاحِدَة\n",
      "N---------   'a.had       \"' .h d\"     FaCaL        ʾaḥad        OaHad        OHd          أحد          أَحَد\n",
      "-------P--   'A.hAd       \"' .h d\"     HACAL        ʾāḥād        |HaAd        |HAd         آحاد         آحَاد\n",
      "------F---   'i.hdY       \"' .h d\"     FiCLY        ʾiḥdā        IiHdaY       IHdY         إحدى         إِحدَى\n",
      "N---------   'i.hdY       \"' .h d\"     FiCLY        ʾiḥdā        IiHdaY       IHdY         إحدى         إِحدَى\n",
      "-------P--   'i.hdayAt    \"' .h d\"     FiCLY |< At  ʾiḥdayāt     IiHdayaAt    IHdyAt       إحديات       إِحدَيَات\n",
      "A---------   wA.hid       \"w .h d\"     FACiL        wāḥid        waAHid       wAHd         واحد         وَاحِد\n",
      "-------P--   wu.hdAn      \"w .h d\"     FuCLAn       wuḥdān       wuHdaAn      wHdAn        وحدان        وُحدَان\n",
      "N---------   wA.hid       \"w .h d\"     FACiL        wāḥid        waAHid       wAHd         واحد         وَاحِد\n",
      "-------P--   wu.hdAn      \"w .h d\"     FuCLAn       wuḥdān       wuHdaAn      wHdAn        وحدان        وُحدَان\n",
      "------F---   wA.hidaT     \"w .h d\"     FACiL |< aT  wāḥidat      waAHidap     wAHdp        واحدة        وَاحِدَة\n",
      "N---------   wA.hidaT     \"w .h d\"     FACiL |< aT  wāḥidat      waAHidap     wAHdp        واحدة        وَاحِدَة\n",
      "-------P--   wA.hidAt     \"w .h d\"     FACiL |< At  wāḥidāt      waAHidaAt    wAHdAt       واحدات       وَاحِدَات\n",
      "\n"
     ]
    }
   ],
   "source": [
    "%%sh\n",
    "elixir lookup | cut -f 4-7 | elixir-encode.pl | expand -t 13\n",
    "\n",
    "\"one\""
   ]
  }
 ],
 "metadata": {
  "kernelspec": {
   "display_name": "Python 2",
   "language": "python",
   "name": "python2"
  },
  "language_info": {
   "codemirror_mode": {
    "name": "ipython",
    "version": 2
   },
   "file_extension": ".py",
   "mimetype": "text/x-python",
   "name": "python",
   "nbconvert_exporter": "python",
   "pygments_lexer": "ipython2",
   "version": "2.7.10"
  }
 },
 "nbformat": 4,
 "nbformat_minor": 0
}
